{
 "cells": [
  {
   "cell_type": "markdown",
   "id": "4b93076d",
   "metadata": {
    "papermill": {
     "duration": 0.031066,
     "end_time": "2023-08-01T07:41:53.797024",
     "exception": false,
     "start_time": "2023-08-01T07:41:53.765958",
     "status": "completed"
    },
    "tags": []
   },
   "source": [
    "# Предсказание выживания пассажиров «Титаника»"
   ]
  },
  {
   "cell_type": "markdown",
   "id": "faa56bca",
   "metadata": {
    "papermill": {
     "duration": 0.026194,
     "end_time": "2023-08-01T07:41:53.849662",
     "exception": false,
     "start_time": "2023-08-01T07:41:53.823468",
     "status": "completed"
    },
    "tags": []
   },
   "source": [
    "Крушение «Титаника» — одно из самых печально известных кораблекрушений в истории. 15 апреля 1912 года во время своего первого рейса «Титаник», считавшийся «непотопляемым», затонул после столкновения с айсбергом. К сожалению, спасательных шлюпок на всех на борту не хватило, в результате чего из 2224 пассажиров и членов экипажа погибли 1502 человека. Хотя в выживании был некоторый элемент удачи, кажется, что у некоторых групп людей было больше шансов выжить, чем у других. В этом исследовании мы построим прогностическую модель, отвечающую на вопрос: «У каких людей больше шансов выжить?», используя данные о пассажирах (например, имя, возраст, пол, социально-экономический класс и т.д.).\n",
    "\n",
    "\n",
    "# Цель исследования\n",
    "\n",
    "Построить модель предсказания выживания пассажиров.\n",
    "\n",
    "\n",
    "# Описание данных\n",
    "\n",
    "Данные разбиты на две группы: тренировочный набор (train.csv) и тестовый набор (test.csv). Оба набора содержат следующие колонки:\n",
    "- `PassengerId` - идентификационный номер пассажира\n",
    "- `Survived` - выживание (0 = нет, 1 = да)\n",
    "- `Pclass` - класс билета (1 = 1-й, 2 = 2-й, 3 = 3-й)\n",
    "- `Name` - имя\n",
    "- `Sex` - пол\n",
    "- `Age` - возраст в годах\n",
    "- `SibSp` - братьев и сестер/супругов на борту Титаника\n",
    "- `Parch` - родителей/детей на борту Титаника\n",
    "- `Ticket` - номер билета\n",
    "- `Fare` - пассажирский тариф\n",
    "- `Cabin` - номер каюты\n",
    "- `Embarked` - порт погрузки (C = Cherbourg, Q = Queenstown, S = Southampton)\n",
    "\n",
    "\n",
    "# Этапы исследования\n",
    "1. Обзор данных\n",
    "1. Анализ данных\n",
    "2. Предобработка данных\n",
    "3. Обучение моделей\n",
    "4. Тестирование лучшей модели"
   ]
  },
  {
   "cell_type": "markdown",
   "id": "8f2fc1f1",
   "metadata": {
    "papermill": {
     "duration": 0.026084,
     "end_time": "2023-08-01T07:41:53.902165",
     "exception": false,
     "start_time": "2023-08-01T07:41:53.876081",
     "status": "completed"
    },
    "tags": []
   },
   "source": [
    "## Обзор данных"
   ]
  },
  {
   "cell_type": "code",
   "execution_count": 1,
   "id": "6f2b317e",
   "metadata": {
    "execution": {
     "iopub.execute_input": "2023-08-01T07:41:53.957352Z",
     "iopub.status.busy": "2023-08-01T07:41:53.956694Z",
     "iopub.status.idle": "2023-08-01T07:41:56.927704Z",
     "shell.execute_reply": "2023-08-01T07:41:56.926491Z"
    },
    "papermill": {
     "duration": 3.002397,
     "end_time": "2023-08-01T07:41:56.930884",
     "exception": false,
     "start_time": "2023-08-01T07:41:53.928487",
     "status": "completed"
    },
    "tags": []
   },
   "outputs": [
    {
     "data": {
      "text/html": [
       "<style type='text/css'>\n",
       ".datatable table.frame { margin-bottom: 0; }\n",
       ".datatable table.frame thead { border-bottom: none; }\n",
       ".datatable table.frame tr.coltypes td {  color: #FFFFFF;  line-height: 6px;  padding: 0 0.5em;}\n",
       ".datatable .bool    { background: #DDDD99; }\n",
       ".datatable .object  { background: #565656; }\n",
       ".datatable .int     { background: #5D9E5D; }\n",
       ".datatable .float   { background: #4040CC; }\n",
       ".datatable .str     { background: #CC4040; }\n",
       ".datatable .time    { background: #40CC40; }\n",
       ".datatable .row_index {  background: var(--jp-border-color3);  border-right: 1px solid var(--jp-border-color0);  color: var(--jp-ui-font-color3);  font-size: 9px;}\n",
       ".datatable .frame tbody td { text-align: left; }\n",
       ".datatable .frame tr.coltypes .row_index {  background: var(--jp-border-color0);}\n",
       ".datatable th:nth-child(2) { padding-left: 12px; }\n",
       ".datatable .hellipsis {  color: var(--jp-cell-editor-border-color);}\n",
       ".datatable .vellipsis {  background: var(--jp-layout-color0);  color: var(--jp-cell-editor-border-color);}\n",
       ".datatable .na {  color: var(--jp-cell-editor-border-color);  font-size: 80%;}\n",
       ".datatable .sp {  opacity: 0.25;}\n",
       ".datatable .footer { font-size: 9px; }\n",
       ".datatable .frame_dimensions {  background: var(--jp-border-color3);  border-top: 1px solid var(--jp-border-color0);  color: var(--jp-ui-font-color3);  display: inline-block;  opacity: 0.6;  padding: 1px 10px 1px 5px;}\n",
       "</style>\n"
      ],
      "text/plain": [
       "<IPython.core.display.HTML object>"
      ]
     },
     "metadata": {},
     "output_type": "display_data"
    }
   ],
   "source": [
    "# импортируем нужные библиотеки\n",
    "\n",
    "import pandas as pd\n",
    "import numpy as np\n",
    "from sklearn.tree import DecisionTreeClassifier\n",
    "from sklearn.ensemble import RandomForestClassifier\n",
    "from sklearn.linear_model import LogisticRegression\n",
    "from sklearn.model_selection import RandomizedSearchCV\n",
    "from sklearn.linear_model import SGDClassifier\n",
    "from lightgbm import LGBMClassifier\n",
    "from catboost import CatBoostClassifier\n",
    "from xgboost import XGBClassifier\n",
    "from sklearn.dummy import DummyClassifier\n",
    "from sklearn.model_selection import train_test_split\n",
    "from sklearn.metrics import confusion_matrix, ConfusionMatrixDisplay\n",
    "from sklearn.metrics import classification_report\n",
    "from sklearn.metrics import accuracy_score\n",
    "from sklearn.metrics import f1_score\n",
    "from sklearn.metrics import roc_curve\n",
    "from sklearn.metrics import roc_auc_score\n",
    "from sklearn.preprocessing import StandardScaler\n",
    "from sklearn.preprocessing import OrdinalEncoder\n",
    "import matplotlib.pyplot as plt\n",
    "import seaborn as sns\n",
    "%matplotlib inline"
   ]
  },
  {
   "cell_type": "code",
   "execution_count": 2,
   "id": "1a98c0b0",
   "metadata": {
    "execution": {
     "iopub.execute_input": "2023-08-01T07:41:56.985967Z",
     "iopub.status.busy": "2023-08-01T07:41:56.985488Z",
     "iopub.status.idle": "2023-08-01T07:41:57.011741Z",
     "shell.execute_reply": "2023-08-01T07:41:57.010833Z"
    },
    "papermill": {
     "duration": 0.056913,
     "end_time": "2023-08-01T07:41:57.014500",
     "exception": false,
     "start_time": "2023-08-01T07:41:56.957587",
     "status": "completed"
    },
    "tags": []
   },
   "outputs": [],
   "source": [
    "# сохраним обучающую и тестовую выборки в отдельные переменные\n",
    "\n",
    "train = pd.read_csv('../input/titanic/train.csv')\n",
    "test = pd.read_csv('../input/titanic/test.csv')"
   ]
  },
  {
   "cell_type": "code",
   "execution_count": 3,
   "id": "f4e15fe9",
   "metadata": {
    "execution": {
     "iopub.execute_input": "2023-08-01T07:41:57.070469Z",
     "iopub.status.busy": "2023-08-01T07:41:57.069342Z",
     "iopub.status.idle": "2023-08-01T07:41:57.100259Z",
     "shell.execute_reply": "2023-08-01T07:41:57.099125Z"
    },
    "papermill": {
     "duration": 0.062133,
     "end_time": "2023-08-01T07:41:57.103386",
     "exception": false,
     "start_time": "2023-08-01T07:41:57.041253",
     "status": "completed"
    },
    "tags": []
   },
   "outputs": [
    {
     "data": {
      "text/html": [
       "<div>\n",
       "<style scoped>\n",
       "    .dataframe tbody tr th:only-of-type {\n",
       "        vertical-align: middle;\n",
       "    }\n",
       "\n",
       "    .dataframe tbody tr th {\n",
       "        vertical-align: top;\n",
       "    }\n",
       "\n",
       "    .dataframe thead th {\n",
       "        text-align: right;\n",
       "    }\n",
       "</style>\n",
       "<table border=\"1\" class=\"dataframe\">\n",
       "  <thead>\n",
       "    <tr style=\"text-align: right;\">\n",
       "      <th></th>\n",
       "      <th>PassengerId</th>\n",
       "      <th>Survived</th>\n",
       "      <th>Pclass</th>\n",
       "      <th>Name</th>\n",
       "      <th>Sex</th>\n",
       "      <th>Age</th>\n",
       "      <th>SibSp</th>\n",
       "      <th>Parch</th>\n",
       "      <th>Ticket</th>\n",
       "      <th>Fare</th>\n",
       "      <th>Cabin</th>\n",
       "      <th>Embarked</th>\n",
       "    </tr>\n",
       "  </thead>\n",
       "  <tbody>\n",
       "    <tr>\n",
       "      <th>451</th>\n",
       "      <td>452</td>\n",
       "      <td>0</td>\n",
       "      <td>3</td>\n",
       "      <td>Hagland, Mr. Ingvald Olai Olsen</td>\n",
       "      <td>male</td>\n",
       "      <td>NaN</td>\n",
       "      <td>1</td>\n",
       "      <td>0</td>\n",
       "      <td>65303</td>\n",
       "      <td>19.9667</td>\n",
       "      <td>NaN</td>\n",
       "      <td>S</td>\n",
       "    </tr>\n",
       "    <tr>\n",
       "      <th>182</th>\n",
       "      <td>183</td>\n",
       "      <td>0</td>\n",
       "      <td>3</td>\n",
       "      <td>Asplund, Master. Clarence Gustaf Hugo</td>\n",
       "      <td>male</td>\n",
       "      <td>9.0</td>\n",
       "      <td>4</td>\n",
       "      <td>2</td>\n",
       "      <td>347077</td>\n",
       "      <td>31.3875</td>\n",
       "      <td>NaN</td>\n",
       "      <td>S</td>\n",
       "    </tr>\n",
       "    <tr>\n",
       "      <th>230</th>\n",
       "      <td>231</td>\n",
       "      <td>1</td>\n",
       "      <td>1</td>\n",
       "      <td>Harris, Mrs. Henry Birkhardt (Irene Wallach)</td>\n",
       "      <td>female</td>\n",
       "      <td>35.0</td>\n",
       "      <td>1</td>\n",
       "      <td>0</td>\n",
       "      <td>36973</td>\n",
       "      <td>83.4750</td>\n",
       "      <td>C83</td>\n",
       "      <td>S</td>\n",
       "    </tr>\n",
       "    <tr>\n",
       "      <th>735</th>\n",
       "      <td>736</td>\n",
       "      <td>0</td>\n",
       "      <td>3</td>\n",
       "      <td>Williams, Mr. Leslie</td>\n",
       "      <td>male</td>\n",
       "      <td>28.5</td>\n",
       "      <td>0</td>\n",
       "      <td>0</td>\n",
       "      <td>54636</td>\n",
       "      <td>16.1000</td>\n",
       "      <td>NaN</td>\n",
       "      <td>S</td>\n",
       "    </tr>\n",
       "    <tr>\n",
       "      <th>365</th>\n",
       "      <td>366</td>\n",
       "      <td>0</td>\n",
       "      <td>3</td>\n",
       "      <td>Adahl, Mr. Mauritz Nils Martin</td>\n",
       "      <td>male</td>\n",
       "      <td>30.0</td>\n",
       "      <td>0</td>\n",
       "      <td>0</td>\n",
       "      <td>C 7076</td>\n",
       "      <td>7.2500</td>\n",
       "      <td>NaN</td>\n",
       "      <td>S</td>\n",
       "    </tr>\n",
       "    <tr>\n",
       "      <th>839</th>\n",
       "      <td>840</td>\n",
       "      <td>1</td>\n",
       "      <td>1</td>\n",
       "      <td>Marechal, Mr. Pierre</td>\n",
       "      <td>male</td>\n",
       "      <td>NaN</td>\n",
       "      <td>0</td>\n",
       "      <td>0</td>\n",
       "      <td>11774</td>\n",
       "      <td>29.7000</td>\n",
       "      <td>C47</td>\n",
       "      <td>C</td>\n",
       "    </tr>\n",
       "    <tr>\n",
       "      <th>669</th>\n",
       "      <td>670</td>\n",
       "      <td>1</td>\n",
       "      <td>1</td>\n",
       "      <td>Taylor, Mrs. Elmer Zebley (Juliet Cummins Wright)</td>\n",
       "      <td>female</td>\n",
       "      <td>NaN</td>\n",
       "      <td>1</td>\n",
       "      <td>0</td>\n",
       "      <td>19996</td>\n",
       "      <td>52.0000</td>\n",
       "      <td>C126</td>\n",
       "      <td>S</td>\n",
       "    </tr>\n",
       "    <tr>\n",
       "      <th>291</th>\n",
       "      <td>292</td>\n",
       "      <td>1</td>\n",
       "      <td>1</td>\n",
       "      <td>Bishop, Mrs. Dickinson H (Helen Walton)</td>\n",
       "      <td>female</td>\n",
       "      <td>19.0</td>\n",
       "      <td>1</td>\n",
       "      <td>0</td>\n",
       "      <td>11967</td>\n",
       "      <td>91.0792</td>\n",
       "      <td>B49</td>\n",
       "      <td>C</td>\n",
       "    </tr>\n",
       "    <tr>\n",
       "      <th>184</th>\n",
       "      <td>185</td>\n",
       "      <td>1</td>\n",
       "      <td>3</td>\n",
       "      <td>Kink-Heilmann, Miss. Luise Gretchen</td>\n",
       "      <td>female</td>\n",
       "      <td>4.0</td>\n",
       "      <td>0</td>\n",
       "      <td>2</td>\n",
       "      <td>315153</td>\n",
       "      <td>22.0250</td>\n",
       "      <td>NaN</td>\n",
       "      <td>S</td>\n",
       "    </tr>\n",
       "    <tr>\n",
       "      <th>747</th>\n",
       "      <td>748</td>\n",
       "      <td>1</td>\n",
       "      <td>2</td>\n",
       "      <td>Sinkkonen, Miss. Anna</td>\n",
       "      <td>female</td>\n",
       "      <td>30.0</td>\n",
       "      <td>0</td>\n",
       "      <td>0</td>\n",
       "      <td>250648</td>\n",
       "      <td>13.0000</td>\n",
       "      <td>NaN</td>\n",
       "      <td>S</td>\n",
       "    </tr>\n",
       "  </tbody>\n",
       "</table>\n",
       "</div>"
      ],
      "text/plain": [
       "     PassengerId  Survived  Pclass  \\\n",
       "451          452         0       3   \n",
       "182          183         0       3   \n",
       "230          231         1       1   \n",
       "735          736         0       3   \n",
       "365          366         0       3   \n",
       "839          840         1       1   \n",
       "669          670         1       1   \n",
       "291          292         1       1   \n",
       "184          185         1       3   \n",
       "747          748         1       2   \n",
       "\n",
       "                                                  Name     Sex   Age  SibSp  \\\n",
       "451                    Hagland, Mr. Ingvald Olai Olsen    male   NaN      1   \n",
       "182              Asplund, Master. Clarence Gustaf Hugo    male   9.0      4   \n",
       "230       Harris, Mrs. Henry Birkhardt (Irene Wallach)  female  35.0      1   \n",
       "735                               Williams, Mr. Leslie    male  28.5      0   \n",
       "365                     Adahl, Mr. Mauritz Nils Martin    male  30.0      0   \n",
       "839                               Marechal, Mr. Pierre    male   NaN      0   \n",
       "669  Taylor, Mrs. Elmer Zebley (Juliet Cummins Wright)  female   NaN      1   \n",
       "291            Bishop, Mrs. Dickinson H (Helen Walton)  female  19.0      1   \n",
       "184                Kink-Heilmann, Miss. Luise Gretchen  female   4.0      0   \n",
       "747                              Sinkkonen, Miss. Anna  female  30.0      0   \n",
       "\n",
       "     Parch  Ticket     Fare Cabin Embarked  \n",
       "451      0   65303  19.9667   NaN        S  \n",
       "182      2  347077  31.3875   NaN        S  \n",
       "230      0   36973  83.4750   C83        S  \n",
       "735      0   54636  16.1000   NaN        S  \n",
       "365      0  C 7076   7.2500   NaN        S  \n",
       "839      0   11774  29.7000   C47        C  \n",
       "669      0   19996  52.0000  C126        S  \n",
       "291      0   11967  91.0792   B49        C  \n",
       "184      2  315153  22.0250   NaN        S  \n",
       "747      0  250648  13.0000   NaN        S  "
      ]
     },
     "execution_count": 3,
     "metadata": {},
     "output_type": "execute_result"
    }
   ],
   "source": [
    "# посмотрим на 10 случайных строк обучающей выборки\n",
    "\n",
    "train.sample(10)"
   ]
  },
  {
   "cell_type": "code",
   "execution_count": 4,
   "id": "584474fe",
   "metadata": {
    "execution": {
     "iopub.execute_input": "2023-08-01T07:41:57.159858Z",
     "iopub.status.busy": "2023-08-01T07:41:57.159400Z",
     "iopub.status.idle": "2023-08-01T07:41:57.181154Z",
     "shell.execute_reply": "2023-08-01T07:41:57.180001Z"
    },
    "papermill": {
     "duration": 0.053254,
     "end_time": "2023-08-01T07:41:57.183950",
     "exception": false,
     "start_time": "2023-08-01T07:41:57.130696",
     "status": "completed"
    },
    "tags": []
   },
   "outputs": [
    {
     "data": {
      "text/html": [
       "<div>\n",
       "<style scoped>\n",
       "    .dataframe tbody tr th:only-of-type {\n",
       "        vertical-align: middle;\n",
       "    }\n",
       "\n",
       "    .dataframe tbody tr th {\n",
       "        vertical-align: top;\n",
       "    }\n",
       "\n",
       "    .dataframe thead th {\n",
       "        text-align: right;\n",
       "    }\n",
       "</style>\n",
       "<table border=\"1\" class=\"dataframe\">\n",
       "  <thead>\n",
       "    <tr style=\"text-align: right;\">\n",
       "      <th></th>\n",
       "      <th>PassengerId</th>\n",
       "      <th>Pclass</th>\n",
       "      <th>Name</th>\n",
       "      <th>Sex</th>\n",
       "      <th>Age</th>\n",
       "      <th>SibSp</th>\n",
       "      <th>Parch</th>\n",
       "      <th>Ticket</th>\n",
       "      <th>Fare</th>\n",
       "      <th>Cabin</th>\n",
       "      <th>Embarked</th>\n",
       "    </tr>\n",
       "  </thead>\n",
       "  <tbody>\n",
       "    <tr>\n",
       "      <th>124</th>\n",
       "      <td>1016</td>\n",
       "      <td>3</td>\n",
       "      <td>Kennedy, Mr. John</td>\n",
       "      <td>male</td>\n",
       "      <td>NaN</td>\n",
       "      <td>0</td>\n",
       "      <td>0</td>\n",
       "      <td>368783</td>\n",
       "      <td>7.750</td>\n",
       "      <td>NaN</td>\n",
       "      <td>Q</td>\n",
       "    </tr>\n",
       "    <tr>\n",
       "      <th>27</th>\n",
       "      <td>919</td>\n",
       "      <td>3</td>\n",
       "      <td>Daher, Mr. Shedid</td>\n",
       "      <td>male</td>\n",
       "      <td>22.5</td>\n",
       "      <td>0</td>\n",
       "      <td>0</td>\n",
       "      <td>2698</td>\n",
       "      <td>7.225</td>\n",
       "      <td>NaN</td>\n",
       "      <td>C</td>\n",
       "    </tr>\n",
       "    <tr>\n",
       "      <th>119</th>\n",
       "      <td>1011</td>\n",
       "      <td>2</td>\n",
       "      <td>Chapman, Mrs. John Henry (Sara Elizabeth Lawry)</td>\n",
       "      <td>female</td>\n",
       "      <td>29.0</td>\n",
       "      <td>1</td>\n",
       "      <td>0</td>\n",
       "      <td>SC/AH 29037</td>\n",
       "      <td>26.000</td>\n",
       "      <td>NaN</td>\n",
       "      <td>S</td>\n",
       "    </tr>\n",
       "    <tr>\n",
       "      <th>214</th>\n",
       "      <td>1106</td>\n",
       "      <td>3</td>\n",
       "      <td>Andersson, Miss. Ida Augusta Margareta</td>\n",
       "      <td>female</td>\n",
       "      <td>38.0</td>\n",
       "      <td>4</td>\n",
       "      <td>2</td>\n",
       "      <td>347091</td>\n",
       "      <td>7.775</td>\n",
       "      <td>NaN</td>\n",
       "      <td>S</td>\n",
       "    </tr>\n",
       "    <tr>\n",
       "      <th>63</th>\n",
       "      <td>955</td>\n",
       "      <td>3</td>\n",
       "      <td>Bradley, Miss. Bridget Delia</td>\n",
       "      <td>female</td>\n",
       "      <td>22.0</td>\n",
       "      <td>0</td>\n",
       "      <td>0</td>\n",
       "      <td>334914</td>\n",
       "      <td>7.725</td>\n",
       "      <td>NaN</td>\n",
       "      <td>Q</td>\n",
       "    </tr>\n",
       "    <tr>\n",
       "      <th>122</th>\n",
       "      <td>1014</td>\n",
       "      <td>1</td>\n",
       "      <td>Schabert, Mrs. Paul (Emma Mock)</td>\n",
       "      <td>female</td>\n",
       "      <td>35.0</td>\n",
       "      <td>1</td>\n",
       "      <td>0</td>\n",
       "      <td>13236</td>\n",
       "      <td>57.750</td>\n",
       "      <td>C28</td>\n",
       "      <td>C</td>\n",
       "    </tr>\n",
       "    <tr>\n",
       "      <th>61</th>\n",
       "      <td>953</td>\n",
       "      <td>2</td>\n",
       "      <td>McCrae, Mr. Arthur Gordon</td>\n",
       "      <td>male</td>\n",
       "      <td>32.0</td>\n",
       "      <td>0</td>\n",
       "      <td>0</td>\n",
       "      <td>237216</td>\n",
       "      <td>13.500</td>\n",
       "      <td>NaN</td>\n",
       "      <td>S</td>\n",
       "    </tr>\n",
       "    <tr>\n",
       "      <th>345</th>\n",
       "      <td>1237</td>\n",
       "      <td>3</td>\n",
       "      <td>Abelseth, Miss. Karen Marie</td>\n",
       "      <td>female</td>\n",
       "      <td>16.0</td>\n",
       "      <td>0</td>\n",
       "      <td>0</td>\n",
       "      <td>348125</td>\n",
       "      <td>7.650</td>\n",
       "      <td>NaN</td>\n",
       "      <td>S</td>\n",
       "    </tr>\n",
       "    <tr>\n",
       "      <th>415</th>\n",
       "      <td>1307</td>\n",
       "      <td>3</td>\n",
       "      <td>Saether, Mr. Simon Sivertsen</td>\n",
       "      <td>male</td>\n",
       "      <td>38.5</td>\n",
       "      <td>0</td>\n",
       "      <td>0</td>\n",
       "      <td>SOTON/O.Q. 3101262</td>\n",
       "      <td>7.250</td>\n",
       "      <td>NaN</td>\n",
       "      <td>S</td>\n",
       "    </tr>\n",
       "    <tr>\n",
       "      <th>396</th>\n",
       "      <td>1288</td>\n",
       "      <td>3</td>\n",
       "      <td>Colbert, Mr. Patrick</td>\n",
       "      <td>male</td>\n",
       "      <td>24.0</td>\n",
       "      <td>0</td>\n",
       "      <td>0</td>\n",
       "      <td>371109</td>\n",
       "      <td>7.250</td>\n",
       "      <td>NaN</td>\n",
       "      <td>Q</td>\n",
       "    </tr>\n",
       "  </tbody>\n",
       "</table>\n",
       "</div>"
      ],
      "text/plain": [
       "     PassengerId  Pclass                                             Name  \\\n",
       "124         1016       3                                Kennedy, Mr. John   \n",
       "27           919       3                                Daher, Mr. Shedid   \n",
       "119         1011       2  Chapman, Mrs. John Henry (Sara Elizabeth Lawry)   \n",
       "214         1106       3           Andersson, Miss. Ida Augusta Margareta   \n",
       "63           955       3                     Bradley, Miss. Bridget Delia   \n",
       "122         1014       1                  Schabert, Mrs. Paul (Emma Mock)   \n",
       "61           953       2                        McCrae, Mr. Arthur Gordon   \n",
       "345         1237       3                      Abelseth, Miss. Karen Marie   \n",
       "415         1307       3                     Saether, Mr. Simon Sivertsen   \n",
       "396         1288       3                             Colbert, Mr. Patrick   \n",
       "\n",
       "        Sex   Age  SibSp  Parch              Ticket    Fare Cabin Embarked  \n",
       "124    male   NaN      0      0              368783   7.750   NaN        Q  \n",
       "27     male  22.5      0      0                2698   7.225   NaN        C  \n",
       "119  female  29.0      1      0         SC/AH 29037  26.000   NaN        S  \n",
       "214  female  38.0      4      2              347091   7.775   NaN        S  \n",
       "63   female  22.0      0      0              334914   7.725   NaN        Q  \n",
       "122  female  35.0      1      0               13236  57.750   C28        C  \n",
       "61     male  32.0      0      0              237216  13.500   NaN        S  \n",
       "345  female  16.0      0      0              348125   7.650   NaN        S  \n",
       "415    male  38.5      0      0  SOTON/O.Q. 3101262   7.250   NaN        S  \n",
       "396    male  24.0      0      0              371109   7.250   NaN        Q  "
      ]
     },
     "execution_count": 4,
     "metadata": {},
     "output_type": "execute_result"
    }
   ],
   "source": [
    "# посмотрим на 10 случайных строк тестовой выборки\n",
    "\n",
    "test.sample(10)"
   ]
  },
  {
   "cell_type": "markdown",
   "id": "92420436",
   "metadata": {
    "papermill": {
     "duration": 0.027304,
     "end_time": "2023-08-01T07:41:57.238981",
     "exception": false,
     "start_time": "2023-08-01T07:41:57.211677",
     "status": "completed"
    },
    "tags": []
   },
   "source": [
    "В тестовой выборке закономерно отсутствует колонка `Survived`."
   ]
  },
  {
   "cell_type": "code",
   "execution_count": 5,
   "id": "4cb1134a",
   "metadata": {
    "execution": {
     "iopub.execute_input": "2023-08-01T07:41:57.297162Z",
     "iopub.status.busy": "2023-08-01T07:41:57.296734Z",
     "iopub.status.idle": "2023-08-01T07:41:57.305635Z",
     "shell.execute_reply": "2023-08-01T07:41:57.303952Z"
    },
    "papermill": {
     "duration": 0.041974,
     "end_time": "2023-08-01T07:41:57.309129",
     "exception": false,
     "start_time": "2023-08-01T07:41:57.267155",
     "status": "completed"
    },
    "tags": []
   },
   "outputs": [
    {
     "name": "stdout",
     "output_type": "stream",
     "text": [
      "(891, 12)\n"
     ]
    },
    {
     "data": {
      "text/plain": [
       "(418, 11)"
      ]
     },
     "execution_count": 5,
     "metadata": {},
     "output_type": "execute_result"
    }
   ],
   "source": [
    "# посмотрим на размерность данных\n",
    "\n",
    "print(train.shape)\n",
    "test.shape"
   ]
  },
  {
   "cell_type": "code",
   "execution_count": 6,
   "id": "f55307b0",
   "metadata": {
    "execution": {
     "iopub.execute_input": "2023-08-01T07:41:57.368237Z",
     "iopub.status.busy": "2023-08-01T07:41:57.366908Z",
     "iopub.status.idle": "2023-08-01T07:41:57.399505Z",
     "shell.execute_reply": "2023-08-01T07:41:57.398262Z"
    },
    "papermill": {
     "duration": 0.065106,
     "end_time": "2023-08-01T07:41:57.402447",
     "exception": false,
     "start_time": "2023-08-01T07:41:57.337341",
     "status": "completed"
    },
    "tags": []
   },
   "outputs": [
    {
     "name": "stdout",
     "output_type": "stream",
     "text": [
      "Обучающая выборка:\n",
      "<class 'pandas.core.frame.DataFrame'>\n",
      "RangeIndex: 891 entries, 0 to 890\n",
      "Data columns (total 12 columns):\n",
      " #   Column       Non-Null Count  Dtype  \n",
      "---  ------       --------------  -----  \n",
      " 0   PassengerId  891 non-null    int64  \n",
      " 1   Survived     891 non-null    int64  \n",
      " 2   Pclass       891 non-null    int64  \n",
      " 3   Name         891 non-null    object \n",
      " 4   Sex          891 non-null    object \n",
      " 5   Age          714 non-null    float64\n",
      " 6   SibSp        891 non-null    int64  \n",
      " 7   Parch        891 non-null    int64  \n",
      " 8   Ticket       891 non-null    object \n",
      " 9   Fare         891 non-null    float64\n",
      " 10  Cabin        204 non-null    object \n",
      " 11  Embarked     889 non-null    object \n",
      "dtypes: float64(2), int64(5), object(5)\n",
      "memory usage: 83.7+ KB\n",
      "None\n",
      "\n",
      "Тестовая выборка:\n",
      "<class 'pandas.core.frame.DataFrame'>\n",
      "RangeIndex: 418 entries, 0 to 417\n",
      "Data columns (total 11 columns):\n",
      " #   Column       Non-Null Count  Dtype  \n",
      "---  ------       --------------  -----  \n",
      " 0   PassengerId  418 non-null    int64  \n",
      " 1   Pclass       418 non-null    int64  \n",
      " 2   Name         418 non-null    object \n",
      " 3   Sex          418 non-null    object \n",
      " 4   Age          332 non-null    float64\n",
      " 5   SibSp        418 non-null    int64  \n",
      " 6   Parch        418 non-null    int64  \n",
      " 7   Ticket       418 non-null    object \n",
      " 8   Fare         417 non-null    float64\n",
      " 9   Cabin        91 non-null     object \n",
      " 10  Embarked     418 non-null    object \n",
      "dtypes: float64(2), int64(4), object(5)\n",
      "memory usage: 36.0+ KB\n"
     ]
    }
   ],
   "source": [
    "# взглянем на общую информацию о данных\n",
    "\n",
    "print('Обучающая выборка:')\n",
    "print(train.info())\n",
    "print()\n",
    "print('Тестовая выборка:')\n",
    "test.info()"
   ]
  },
  {
   "cell_type": "markdown",
   "id": "ffceb26a",
   "metadata": {
    "execution": {
     "iopub.execute_input": "2023-07-02T13:21:07.577796Z",
     "iopub.status.busy": "2023-07-02T13:21:07.577314Z",
     "iopub.status.idle": "2023-07-02T13:21:07.585509Z",
     "shell.execute_reply": "2023-07-02T13:21:07.584269Z",
     "shell.execute_reply.started": "2023-07-02T13:21:07.577748Z"
    },
    "papermill": {
     "duration": 0.027489,
     "end_time": "2023-08-01T07:41:57.458169",
     "exception": false,
     "start_time": "2023-08-01T07:41:57.430680",
     "status": "completed"
    },
    "tags": []
   },
   "source": [
    "Видно, что есть пропуски в обеих выборках."
   ]
  },
  {
   "cell_type": "code",
   "execution_count": 7,
   "id": "46ac2d41",
   "metadata": {
    "execution": {
     "iopub.execute_input": "2023-08-01T07:41:57.516581Z",
     "iopub.status.busy": "2023-08-01T07:41:57.515814Z",
     "iopub.status.idle": "2023-08-01T07:41:57.531770Z",
     "shell.execute_reply": "2023-08-01T07:41:57.530598Z"
    },
    "papermill": {
     "duration": 0.048164,
     "end_time": "2023-08-01T07:41:57.534461",
     "exception": false,
     "start_time": "2023-08-01T07:41:57.486297",
     "status": "completed"
    },
    "tags": []
   },
   "outputs": [
    {
     "name": "stdout",
     "output_type": "stream",
     "text": [
      "Число пропусков в обучающей выборке:\n",
      "PassengerId      0\n",
      "Survived         0\n",
      "Pclass           0\n",
      "Name             0\n",
      "Sex              0\n",
      "Age            177\n",
      "SibSp            0\n",
      "Parch            0\n",
      "Ticket           0\n",
      "Fare             0\n",
      "Cabin          687\n",
      "Embarked         2\n",
      "dtype: int64\n",
      "\n",
      "Число пропусков в тестовой выборке:\n"
     ]
    },
    {
     "data": {
      "text/plain": [
       "PassengerId      0\n",
       "Pclass           0\n",
       "Name             0\n",
       "Sex              0\n",
       "Age             86\n",
       "SibSp            0\n",
       "Parch            0\n",
       "Ticket           0\n",
       "Fare             1\n",
       "Cabin          327\n",
       "Embarked         0\n",
       "dtype: int64"
      ]
     },
     "execution_count": 7,
     "metadata": {},
     "output_type": "execute_result"
    }
   ],
   "source": [
    "# посчитаем пропуски в данных\n",
    "\n",
    "print('Число пропусков в обучающей выборке:')\n",
    "print(train.isna().sum())\n",
    "print()\n",
    "print('Число пропусков в тестовой выборке:')\n",
    "test.isna().sum()"
   ]
  },
  {
   "cell_type": "markdown",
   "id": "708ce74e",
   "metadata": {
    "papermill": {
     "duration": 0.028665,
     "end_time": "2023-08-01T07:41:57.591937",
     "exception": false,
     "start_time": "2023-08-01T07:41:57.563272",
     "status": "completed"
    },
    "tags": []
   },
   "source": [
    "Визуализируем доли пропусков для наглядности. Напишем функцию, которая выводит диаграмму с долями пропусков по убыванию."
   ]
  },
  {
   "cell_type": "code",
   "execution_count": 8,
   "id": "1a84b189",
   "metadata": {
    "execution": {
     "iopub.execute_input": "2023-08-01T07:41:57.653585Z",
     "iopub.status.busy": "2023-08-01T07:41:57.653018Z",
     "iopub.status.idle": "2023-08-01T07:41:57.662514Z",
     "shell.execute_reply": "2023-08-01T07:41:57.661170Z"
    },
    "papermill": {
     "duration": 0.041882,
     "end_time": "2023-08-01T07:41:57.664933",
     "exception": false,
     "start_time": "2023-08-01T07:41:57.623051",
     "status": "completed"
    },
    "tags": []
   },
   "outputs": [],
   "source": [
    "def pass_value_barh(data, title=None):\n",
    "    try:\n",
    "        (\n",
    "            (data.isna().mean()*100)\n",
    "            .to_frame()\n",
    "            .rename(columns = {0:'space'})\n",
    "            .query('space > 0')\n",
    "            .sort_values(by='space', ascending=True)\n",
    "            .plot(kind = 'barh', figsize=(10,7), legend=False, fontsize = 15)\n",
    "            .set_title(f'Доля пропущенных значений в {title} выборке, %' + \"\\n\", fontsize = 15)\n",
    "        );\n",
    "    except:\n",
    "        print('пропусков не осталось')"
   ]
  },
  {
   "cell_type": "code",
   "execution_count": 9,
   "id": "46d0232c",
   "metadata": {
    "execution": {
     "iopub.execute_input": "2023-08-01T07:41:57.723458Z",
     "iopub.status.busy": "2023-08-01T07:41:57.722199Z",
     "iopub.status.idle": "2023-08-01T07:41:58.019991Z",
     "shell.execute_reply": "2023-08-01T07:41:58.018746Z"
    },
    "papermill": {
     "duration": 0.329953,
     "end_time": "2023-08-01T07:41:58.022823",
     "exception": false,
     "start_time": "2023-08-01T07:41:57.692870",
     "status": "completed"
    },
    "tags": []
   },
   "outputs": [
    {
     "data": {
      "image/png": "[encoded data removed]",
      "text/plain": [
       "<Figure size 720x504 with 1 Axes>"
      ]
     },
     "metadata": {
      "needs_background": "light"
     },
     "output_type": "display_data"
    }
   ],
   "source": [
    "# выведем доли пропущенных значений в обучающей выборке\n",
    "\n",
    "pass_value_barh(train, 'обучающей')"
   ]
  },
  {
   "cell_type": "markdown",
   "id": "8d968a01",
   "metadata": {
    "papermill": {
     "duration": 0.027996,
     "end_time": "2023-08-01T07:41:58.079317",
     "exception": false,
     "start_time": "2023-08-01T07:41:58.051321",
     "status": "completed"
    },
    "tags": []
   },
   "source": [
    "Почти 80% пропусков в колонке с номером каюты, около 20% в колонке с возрастом и менее 1% в колонке с портом погрузки."
   ]
  },
  {
   "cell_type": "code",
   "execution_count": 10,
   "id": "bde016e2",
   "metadata": {
    "execution": {
     "iopub.execute_input": "2023-08-01T07:41:58.139302Z",
     "iopub.status.busy": "2023-08-01T07:41:58.138031Z",
     "iopub.status.idle": "2023-08-01T07:41:58.380004Z",
     "shell.execute_reply": "2023-08-01T07:41:58.379030Z"
    },
    "papermill": {
     "duration": 0.274337,
     "end_time": "2023-08-01T07:41:58.382614",
     "exception": false,
     "start_time": "2023-08-01T07:41:58.108277",
     "status": "completed"
    },
    "tags": []
   },
   "outputs": [
    {
     "data": {
      "image/png": "[encoded data removed]",
      "text/plain": [
       "<Figure size 720x504 with 1 Axes>"
      ]
     },
     "metadata": {
      "needs_background": "light"
     },
     "output_type": "display_data"
    }
   ],
   "source": [
    "# выведем доли пропущенных значений в тестовой выборке\n",
    "\n",
    "pass_value_barh(test,'тестовой')"
   ]
  },
  {
   "cell_type": "markdown",
   "id": "0b30f0f3",
   "metadata": {
    "papermill": {
     "duration": 0.02834,
     "end_time": "2023-08-01T07:41:58.439976",
     "exception": false,
     "start_time": "2023-08-01T07:41:58.411636",
     "status": "completed"
    },
    "tags": []
   },
   "source": [
    "Практически аналогичная ситуация с номером каюты и возрастом в тестовой выборке, а также менее 1% пропусков в колонке пассажирский тариф."
   ]
  },
  {
   "cell_type": "code",
   "execution_count": 11,
   "id": "9d349358",
   "metadata": {
    "execution": {
     "iopub.execute_input": "2023-08-01T07:41:58.501324Z",
     "iopub.status.busy": "2023-08-01T07:41:58.499966Z",
     "iopub.status.idle": "2023-08-01T07:41:58.538702Z",
     "shell.execute_reply": "2023-08-01T07:41:58.537517Z"
    },
    "papermill": {
     "duration": 0.072761,
     "end_time": "2023-08-01T07:41:58.541720",
     "exception": false,
     "start_time": "2023-08-01T07:41:58.468959",
     "status": "completed"
    },
    "tags": []
   },
   "outputs": [
    {
     "data": {
      "text/html": [
       "<div>\n",
       "<style scoped>\n",
       "    .dataframe tbody tr th:only-of-type {\n",
       "        vertical-align: middle;\n",
       "    }\n",
       "\n",
       "    .dataframe tbody tr th {\n",
       "        vertical-align: top;\n",
       "    }\n",
       "\n",
       "    .dataframe thead th {\n",
       "        text-align: right;\n",
       "    }\n",
       "</style>\n",
       "<table border=\"1\" class=\"dataframe\">\n",
       "  <thead>\n",
       "    <tr style=\"text-align: right;\">\n",
       "      <th></th>\n",
       "      <th>PassengerId</th>\n",
       "      <th>Survived</th>\n",
       "      <th>Pclass</th>\n",
       "      <th>Age</th>\n",
       "      <th>SibSp</th>\n",
       "      <th>Parch</th>\n",
       "      <th>Fare</th>\n",
       "    </tr>\n",
       "  </thead>\n",
       "  <tbody>\n",
       "    <tr>\n",
       "      <th>count</th>\n",
       "      <td>891.000000</td>\n",
       "      <td>891.000000</td>\n",
       "      <td>891.000000</td>\n",
       "      <td>714.000000</td>\n",
       "      <td>891.000000</td>\n",
       "      <td>891.000000</td>\n",
       "      <td>891.000000</td>\n",
       "    </tr>\n",
       "    <tr>\n",
       "      <th>mean</th>\n",
       "      <td>446.000000</td>\n",
       "      <td>0.383838</td>\n",
       "      <td>2.308642</td>\n",
       "      <td>29.699118</td>\n",
       "      <td>0.523008</td>\n",
       "      <td>0.381594</td>\n",
       "      <td>32.204208</td>\n",
       "    </tr>\n",
       "    <tr>\n",
       "      <th>std</th>\n",
       "      <td>257.353842</td>\n",
       "      <td>0.486592</td>\n",
       "      <td>0.836071</td>\n",
       "      <td>14.526497</td>\n",
       "      <td>1.102743</td>\n",
       "      <td>0.806057</td>\n",
       "      <td>49.693429</td>\n",
       "    </tr>\n",
       "    <tr>\n",
       "      <th>min</th>\n",
       "      <td>1.000000</td>\n",
       "      <td>0.000000</td>\n",
       "      <td>1.000000</td>\n",
       "      <td>0.420000</td>\n",
       "      <td>0.000000</td>\n",
       "      <td>0.000000</td>\n",
       "      <td>0.000000</td>\n",
       "    </tr>\n",
       "    <tr>\n",
       "      <th>25%</th>\n",
       "      <td>223.500000</td>\n",
       "      <td>0.000000</td>\n",
       "      <td>2.000000</td>\n",
       "      <td>20.125000</td>\n",
       "      <td>0.000000</td>\n",
       "      <td>0.000000</td>\n",
       "      <td>7.910400</td>\n",
       "    </tr>\n",
       "    <tr>\n",
       "      <th>50%</th>\n",
       "      <td>446.000000</td>\n",
       "      <td>0.000000</td>\n",
       "      <td>3.000000</td>\n",
       "      <td>28.000000</td>\n",
       "      <td>0.000000</td>\n",
       "      <td>0.000000</td>\n",
       "      <td>14.454200</td>\n",
       "    </tr>\n",
       "    <tr>\n",
       "      <th>75%</th>\n",
       "      <td>668.500000</td>\n",
       "      <td>1.000000</td>\n",
       "      <td>3.000000</td>\n",
       "      <td>38.000000</td>\n",
       "      <td>1.000000</td>\n",
       "      <td>0.000000</td>\n",
       "      <td>31.000000</td>\n",
       "    </tr>\n",
       "    <tr>\n",
       "      <th>max</th>\n",
       "      <td>891.000000</td>\n",
       "      <td>1.000000</td>\n",
       "      <td>3.000000</td>\n",
       "      <td>80.000000</td>\n",
       "      <td>8.000000</td>\n",
       "      <td>6.000000</td>\n",
       "      <td>512.329200</td>\n",
       "    </tr>\n",
       "  </tbody>\n",
       "</table>\n",
       "</div>"
      ],
      "text/plain": [
       "       PassengerId    Survived      Pclass         Age       SibSp  \\\n",
       "count   891.000000  891.000000  891.000000  714.000000  891.000000   \n",
       "mean    446.000000    0.383838    2.308642   29.699118    0.523008   \n",
       "std     257.353842    0.486592    0.836071   14.526497    1.102743   \n",
       "min       1.000000    0.000000    1.000000    0.420000    0.000000   \n",
       "25%     223.500000    0.000000    2.000000   20.125000    0.000000   \n",
       "50%     446.000000    0.000000    3.000000   28.000000    0.000000   \n",
       "75%     668.500000    1.000000    3.000000   38.000000    1.000000   \n",
       "max     891.000000    1.000000    3.000000   80.000000    8.000000   \n",
       "\n",
       "            Parch        Fare  \n",
       "count  891.000000  891.000000  \n",
       "mean     0.381594   32.204208  \n",
       "std      0.806057   49.693429  \n",
       "min      0.000000    0.000000  \n",
       "25%      0.000000    7.910400  \n",
       "50%      0.000000   14.454200  \n",
       "75%      0.000000   31.000000  \n",
       "max      6.000000  512.329200  "
      ]
     },
     "execution_count": 11,
     "metadata": {},
     "output_type": "execute_result"
    }
   ],
   "source": [
    "# посмотрим на статистические показатели обучающей выборки\n",
    "\n",
    "train.describe()"
   ]
  },
  {
   "cell_type": "code",
   "execution_count": 12,
   "id": "78419322",
   "metadata": {
    "execution": {
     "iopub.execute_input": "2023-08-01T07:41:58.602904Z",
     "iopub.status.busy": "2023-08-01T07:41:58.602414Z",
     "iopub.status.idle": "2023-08-01T07:41:58.637830Z",
     "shell.execute_reply": "2023-08-01T07:41:58.636659Z"
    },
    "papermill": {
     "duration": 0.069561,
     "end_time": "2023-08-01T07:41:58.640633",
     "exception": false,
     "start_time": "2023-08-01T07:41:58.571072",
     "status": "completed"
    },
    "tags": []
   },
   "outputs": [
    {
     "data": {
      "text/html": [
       "<div>\n",
       "<style scoped>\n",
       "    .dataframe tbody tr th:only-of-type {\n",
       "        vertical-align: middle;\n",
       "    }\n",
       "\n",
       "    .dataframe tbody tr th {\n",
       "        vertical-align: top;\n",
       "    }\n",
       "\n",
       "    .dataframe thead th {\n",
       "        text-align: right;\n",
       "    }\n",
       "</style>\n",
       "<table border=\"1\" class=\"dataframe\">\n",
       "  <thead>\n",
       "    <tr style=\"text-align: right;\">\n",
       "      <th></th>\n",
       "      <th>PassengerId</th>\n",
       "      <th>Pclass</th>\n",
       "      <th>Age</th>\n",
       "      <th>SibSp</th>\n",
       "      <th>Parch</th>\n",
       "      <th>Fare</th>\n",
       "    </tr>\n",
       "  </thead>\n",
       "  <tbody>\n",
       "    <tr>\n",
       "      <th>count</th>\n",
       "      <td>418.000000</td>\n",
       "      <td>418.000000</td>\n",
       "      <td>332.000000</td>\n",
       "      <td>418.000000</td>\n",
       "      <td>418.000000</td>\n",
       "      <td>417.000000</td>\n",
       "    </tr>\n",
       "    <tr>\n",
       "      <th>mean</th>\n",
       "      <td>1100.500000</td>\n",
       "      <td>2.265550</td>\n",
       "      <td>30.272590</td>\n",
       "      <td>0.447368</td>\n",
       "      <td>0.392344</td>\n",
       "      <td>35.627188</td>\n",
       "    </tr>\n",
       "    <tr>\n",
       "      <th>std</th>\n",
       "      <td>120.810458</td>\n",
       "      <td>0.841838</td>\n",
       "      <td>14.181209</td>\n",
       "      <td>0.896760</td>\n",
       "      <td>0.981429</td>\n",
       "      <td>55.907576</td>\n",
       "    </tr>\n",
       "    <tr>\n",
       "      <th>min</th>\n",
       "      <td>892.000000</td>\n",
       "      <td>1.000000</td>\n",
       "      <td>0.170000</td>\n",
       "      <td>0.000000</td>\n",
       "      <td>0.000000</td>\n",
       "      <td>0.000000</td>\n",
       "    </tr>\n",
       "    <tr>\n",
       "      <th>25%</th>\n",
       "      <td>996.250000</td>\n",
       "      <td>1.000000</td>\n",
       "      <td>21.000000</td>\n",
       "      <td>0.000000</td>\n",
       "      <td>0.000000</td>\n",
       "      <td>7.895800</td>\n",
       "    </tr>\n",
       "    <tr>\n",
       "      <th>50%</th>\n",
       "      <td>1100.500000</td>\n",
       "      <td>3.000000</td>\n",
       "      <td>27.000000</td>\n",
       "      <td>0.000000</td>\n",
       "      <td>0.000000</td>\n",
       "      <td>14.454200</td>\n",
       "    </tr>\n",
       "    <tr>\n",
       "      <th>75%</th>\n",
       "      <td>1204.750000</td>\n",
       "      <td>3.000000</td>\n",
       "      <td>39.000000</td>\n",
       "      <td>1.000000</td>\n",
       "      <td>0.000000</td>\n",
       "      <td>31.500000</td>\n",
       "    </tr>\n",
       "    <tr>\n",
       "      <th>max</th>\n",
       "      <td>1309.000000</td>\n",
       "      <td>3.000000</td>\n",
       "      <td>76.000000</td>\n",
       "      <td>8.000000</td>\n",
       "      <td>9.000000</td>\n",
       "      <td>512.329200</td>\n",
       "    </tr>\n",
       "  </tbody>\n",
       "</table>\n",
       "</div>"
      ],
      "text/plain": [
       "       PassengerId      Pclass         Age       SibSp       Parch        Fare\n",
       "count   418.000000  418.000000  332.000000  418.000000  418.000000  417.000000\n",
       "mean   1100.500000    2.265550   30.272590    0.447368    0.392344   35.627188\n",
       "std     120.810458    0.841838   14.181209    0.896760    0.981429   55.907576\n",
       "min     892.000000    1.000000    0.170000    0.000000    0.000000    0.000000\n",
       "25%     996.250000    1.000000   21.000000    0.000000    0.000000    7.895800\n",
       "50%    1100.500000    3.000000   27.000000    0.000000    0.000000   14.454200\n",
       "75%    1204.750000    3.000000   39.000000    1.000000    0.000000   31.500000\n",
       "max    1309.000000    3.000000   76.000000    8.000000    9.000000  512.329200"
      ]
     },
     "execution_count": 12,
     "metadata": {},
     "output_type": "execute_result"
    }
   ],
   "source": [
    "# посмотрим на статистические показатели тестовой выборки\n",
    "\n",
    "test.describe()"
   ]
  },
  {
   "cell_type": "markdown",
   "id": "b3b0b7bd",
   "metadata": {
    "papermill": {
     "duration": 0.029022,
     "end_time": "2023-08-01T07:41:58.699162",
     "exception": false,
     "start_time": "2023-08-01T07:41:58.670140",
     "status": "completed"
    },
    "tags": []
   },
   "source": [
    "**Вывод**\n",
    "\n",
    "Данные уже разделены на обучающую и тестовую выборки. Обе выборки содержат пропуски в колонках `Cabin` (около 80%) и `Age` (около 20%). Менее 1% пропусков в колонке `Embarked` обучающей выборки. И менее 1% пропусков в колонке `Fare` тестовой выборки."
   ]
  },
  {
   "cell_type": "markdown",
   "id": "2e5ccda2",
   "metadata": {
    "papermill": {
     "duration": 0.029639,
     "end_time": "2023-08-01T07:41:58.758912",
     "exception": false,
     "start_time": "2023-08-01T07:41:58.729273",
     "status": "completed"
    },
    "tags": []
   },
   "source": [
    "## Анализ данных"
   ]
  },
  {
   "cell_type": "markdown",
   "id": "52e8b775",
   "metadata": {
    "papermill": {
     "duration": 0.03023,
     "end_time": "2023-08-01T07:41:58.818521",
     "exception": false,
     "start_time": "2023-08-01T07:41:58.788291",
     "status": "completed"
    },
    "tags": []
   },
   "source": [
    "Посмотрим соотношение выживших и погибших в обучающей выборке."
   ]
  },
  {
   "cell_type": "code",
   "execution_count": 13,
   "id": "35294558",
   "metadata": {
    "execution": {
     "iopub.execute_input": "2023-08-01T07:41:58.880474Z",
     "iopub.status.busy": "2023-08-01T07:41:58.879344Z",
     "iopub.status.idle": "2023-08-01T07:41:59.160363Z",
     "shell.execute_reply": "2023-08-01T07:41:59.159086Z"
    },
    "papermill": {
     "duration": 0.314767,
     "end_time": "2023-08-01T07:41:59.163140",
     "exception": false,
     "start_time": "2023-08-01T07:41:58.848373",
     "status": "completed"
    },
    "tags": []
   },
   "outputs": [
    {
     "data": {
      "image/png": "[encoded data removed]",
      "text/plain": [
       "<Figure size 1080x720 with 1 Axes>"
      ]
     },
     "metadata": {},
     "output_type": "display_data"
    }
   ],
   "source": [
    "plt.figure(figsize=(15, 10))\n",
    "train['Survived'].value_counts().plot(kind='pie', autopct='%.1f%%')\n",
    "plt.legend()\n",
    "plt.title('Доли выживших и погибших', fontsize=15);"
   ]
  },
  {
   "cell_type": "markdown",
   "id": "d2333195",
   "metadata": {
    "papermill": {
     "duration": 0.031142,
     "end_time": "2023-08-01T07:41:59.225007",
     "exception": false,
     "start_time": "2023-08-01T07:41:59.193865",
     "status": "completed"
    },
    "tags": []
   },
   "source": [
    "Есть некоторый дисбаланс классов. Виживших в обучающей выборке примерно 40%."
   ]
  },
  {
   "cell_type": "code",
   "execution_count": 14,
   "id": "a6262220",
   "metadata": {
    "execution": {
     "iopub.execute_input": "2023-08-01T07:41:59.289172Z",
     "iopub.status.busy": "2023-08-01T07:41:59.288710Z",
     "iopub.status.idle": "2023-08-01T07:41:59.516144Z",
     "shell.execute_reply": "2023-08-01T07:41:59.514747Z"
    },
    "papermill": {
     "duration": 0.263342,
     "end_time": "2023-08-01T07:41:59.519616",
     "exception": false,
     "start_time": "2023-08-01T07:41:59.256274",
     "status": "completed"
    },
    "tags": []
   },
   "outputs": [
    {
     "data": {
      "image/png": "[encoded data removed]",
      "text/plain": [
       "<Figure size 720x504 with 1 Axes>"
      ]
     },
     "metadata": {
      "needs_background": "light"
     },
     "output_type": "display_data"
    }
   ],
   "source": [
    "# посмотрим на распределение мужчин и женщин\n",
    "\n",
    "plt.figure(figsize=(10, 7))\n",
    "sns.countplot(data=train, x='Sex')\n",
    "plt.title('Распределение мужчин и женщин', fontsize=15)\n",
    "plt.xlabel('Пол', fontsize=15)\n",
    "plt.ylabel('Количество', fontsize=15);"
   ]
  },
  {
   "cell_type": "markdown",
   "id": "b618d1df",
   "metadata": {
    "papermill": {
     "duration": 0.030153,
     "end_time": "2023-08-01T07:41:59.582217",
     "exception": false,
     "start_time": "2023-08-01T07:41:59.552064",
     "status": "completed"
    },
    "tags": []
   },
   "source": [
    "Мужчин было на борту почти в 2 раза больше, если брать только обучающую выборку. Теперь оценим выживание в зависимости от пола."
   ]
  },
  {
   "cell_type": "code",
   "execution_count": 15,
   "id": "1c2c773b",
   "metadata": {
    "execution": {
     "iopub.execute_input": "2023-08-01T07:41:59.657392Z",
     "iopub.status.busy": "2023-08-01T07:41:59.655987Z",
     "iopub.status.idle": "2023-08-01T07:41:59.915800Z",
     "shell.execute_reply": "2023-08-01T07:41:59.914558Z"
    },
    "papermill": {
     "duration": 0.301561,
     "end_time": "2023-08-01T07:41:59.918578",
     "exception": false,
     "start_time": "2023-08-01T07:41:59.617017",
     "status": "completed"
    },
    "tags": []
   },
   "outputs": [
    {
     "data": {
      "image/png": "[encoded data removed]",
      "text/plain": [
       "<Figure size 720x504 with 1 Axes>"
      ]
     },
     "metadata": {
      "needs_background": "light"
     },
     "output_type": "display_data"
    }
   ],
   "source": [
    "plt.figure(figsize=(10, 7))\n",
    "sns.countplot(data=train, x='Survived', hue='Sex')\n",
    "plt.title('Выживание в зависимости от пола', fontsize=15)\n",
    "plt.xlabel('Выживание', fontsize=15)\n",
    "plt.ylabel('Количество', fontsize=15);"
   ]
  },
  {
   "cell_type": "markdown",
   "id": "ae85185b",
   "metadata": {
    "papermill": {
     "duration": 0.030979,
     "end_time": "2023-08-01T07:41:59.981152",
     "exception": false,
     "start_time": "2023-08-01T07:41:59.950173",
     "status": "completed"
    },
    "tags": []
   },
   "source": [
    "Как видно, женщины имеют больше шансов на выживание."
   ]
  },
  {
   "cell_type": "code",
   "execution_count": 16,
   "id": "7a480da4",
   "metadata": {
    "execution": {
     "iopub.execute_input": "2023-08-01T07:42:00.047408Z",
     "iopub.status.busy": "2023-08-01T07:42:00.046764Z",
     "iopub.status.idle": "2023-08-01T07:42:00.268229Z",
     "shell.execute_reply": "2023-08-01T07:42:00.267340Z"
    },
    "papermill": {
     "duration": 0.256833,
     "end_time": "2023-08-01T07:42:00.270720",
     "exception": false,
     "start_time": "2023-08-01T07:42:00.013887",
     "status": "completed"
    },
    "tags": []
   },
   "outputs": [
    {
     "data": {
      "image/png": "[encoded data removed]",
      "text/plain": [
       "<Figure size 720x504 with 1 Axes>"
      ]
     },
     "metadata": {
      "needs_background": "light"
     },
     "output_type": "display_data"
    }
   ],
   "source": [
    "# построим распределение классов билетов\n",
    "\n",
    "plt.figure(figsize=(10, 7))\n",
    "sns.countplot(data=train, x='Pclass')\n",
    "plt.title('Распределение классов', fontsize=15)\n",
    "plt.xlabel('Класс билета', fontsize=15)\n",
    "plt.ylabel('Количество', fontsize=15);"
   ]
  },
  {
   "cell_type": "markdown",
   "id": "1f73ac3c",
   "metadata": {
    "papermill": {
     "duration": 0.030883,
     "end_time": "2023-08-01T07:42:00.333721",
     "exception": false,
     "start_time": "2023-08-01T07:42:00.302838",
     "status": "completed"
    },
    "tags": []
   },
   "source": [
    "Представителей 3 класса больше всех, на втором месте - 1 класс и меньше всех пассажиров 2 класса. Теперь оценим шансы выжить в зависимости от класса."
   ]
  },
  {
   "cell_type": "code",
   "execution_count": 17,
   "id": "27f1d155",
   "metadata": {
    "execution": {
     "iopub.execute_input": "2023-08-01T07:42:00.398443Z",
     "iopub.status.busy": "2023-08-01T07:42:00.397796Z",
     "iopub.status.idle": "2023-08-01T07:42:00.820109Z",
     "shell.execute_reply": "2023-08-01T07:42:00.819228Z"
    },
    "papermill": {
     "duration": 0.457893,
     "end_time": "2023-08-01T07:42:00.822602",
     "exception": false,
     "start_time": "2023-08-01T07:42:00.364709",
     "status": "completed"
    },
    "tags": []
   },
   "outputs": [
    {
     "data": {
      "image/png": "[encoded data removed]",
      "text/plain": [
       "<Figure size 720x504 with 1 Axes>"
      ]
     },
     "metadata": {
      "needs_background": "light"
     },
     "output_type": "display_data"
    }
   ],
   "source": [
    "plt.figure(figsize=(10, 7))\n",
    "sns.countplot(data=train, x = 'Survived', hue = 'Pclass')\n",
    "plt.title('Выживание в зависимости от класса билета', fontsize=15)\n",
    "plt.xlabel('Выживание', fontsize=15)\n",
    "plt.ylabel('Количество', fontsize=15);"
   ]
  },
  {
   "cell_type": "markdown",
   "id": "dc1b85c8",
   "metadata": {
    "papermill": {
     "duration": 0.031085,
     "end_time": "2023-08-01T07:42:00.886740",
     "exception": false,
     "start_time": "2023-08-01T07:42:00.855655",
     "status": "completed"
    },
    "tags": []
   },
   "source": [
    "Больше всего погибло людей из 3 класса. Меньше всего - представителей 1 класса, хотя по численности их было не меньше всех. Похоже больше шансов у более богатых пассажиров."
   ]
  },
  {
   "cell_type": "code",
   "execution_count": 18,
   "id": "2a2086cf",
   "metadata": {
    "execution": {
     "iopub.execute_input": "2023-08-01T07:42:00.952225Z",
     "iopub.status.busy": "2023-08-01T07:42:00.951571Z",
     "iopub.status.idle": "2023-08-01T07:42:01.176703Z",
     "shell.execute_reply": "2023-08-01T07:42:01.175366Z"
    },
    "papermill": {
     "duration": 0.261156,
     "end_time": "2023-08-01T07:42:01.179264",
     "exception": false,
     "start_time": "2023-08-01T07:42:00.918108",
     "status": "completed"
    },
    "tags": []
   },
   "outputs": [
    {
     "data": {
      "image/png": "[encoded data removed]",
      "text/plain": [
       "<Figure size 720x504 with 1 Axes>"
      ]
     },
     "metadata": {
      "needs_background": "light"
     },
     "output_type": "display_data"
    }
   ],
   "source": [
    "# построим распределение портов погрузки\n",
    "\n",
    "plt.figure(figsize=(10, 7))\n",
    "sns.countplot(data=train, x='Embarked')\n",
    "plt.title('Распределение портов погрузки', fontsize=15)\n",
    "plt.xlabel('Порт', fontsize=15)\n",
    "plt.ylabel('Количество', fontsize=15);"
   ]
  },
  {
   "cell_type": "markdown",
   "id": "cd5c7f2b",
   "metadata": {
    "papermill": {
     "duration": 0.03161,
     "end_time": "2023-08-01T07:42:01.243092",
     "exception": false,
     "start_time": "2023-08-01T07:42:01.211482",
     "status": "completed"
    },
    "tags": []
   },
   "source": [
    "Больше всего людей (более 600) взошло на борт в порту `Southampton`. Меньше всего (менее 100) - в `Queenstown`. И снова посмотрим как порт связан с выживанием."
   ]
  },
  {
   "cell_type": "code",
   "execution_count": 19,
   "id": "28114175",
   "metadata": {
    "execution": {
     "iopub.execute_input": "2023-08-01T07:42:01.308868Z",
     "iopub.status.busy": "2023-08-01T07:42:01.308378Z",
     "iopub.status.idle": "2023-08-01T07:42:01.592083Z",
     "shell.execute_reply": "2023-08-01T07:42:01.590841Z"
    },
    "papermill": {
     "duration": 0.319589,
     "end_time": "2023-08-01T07:42:01.594710",
     "exception": false,
     "start_time": "2023-08-01T07:42:01.275121",
     "status": "completed"
    },
    "tags": []
   },
   "outputs": [
    {
     "data": {
      "image/png": "[encoded data removed]",
      "text/plain": [
       "<Figure size 720x504 with 1 Axes>"
      ]
     },
     "metadata": {
      "needs_background": "light"
     },
     "output_type": "display_data"
    }
   ],
   "source": [
    "plt.figure(figsize=(10, 7))\n",
    "sns.countplot(data=train, x = 'Survived', hue = 'Embarked')\n",
    "plt.title('Выживание в зависимости от порта', fontsize=15)\n",
    "plt.xlabel('Выживание', fontsize=15)\n",
    "plt.ylabel('Количество', fontsize=15);"
   ]
  },
  {
   "cell_type": "markdown",
   "id": "5fa8b6ef",
   "metadata": {
    "execution": {
     "iopub.execute_input": "2023-07-03T07:09:57.950846Z",
     "iopub.status.busy": "2023-07-03T07:09:57.950287Z",
     "iopub.status.idle": "2023-07-03T07:09:57.958120Z",
     "shell.execute_reply": "2023-07-03T07:09:57.956620Z",
     "shell.execute_reply.started": "2023-07-03T07:09:57.950806Z"
    },
    "papermill": {
     "duration": 0.032268,
     "end_time": "2023-08-01T07:42:01.662060",
     "exception": false,
     "start_time": "2023-08-01T07:42:01.629792",
     "status": "completed"
    },
    "tags": []
   },
   "source": [
    "Количество и погибших и выживших из разных портов примерно повторяет их изначальное распределение."
   ]
  },
  {
   "cell_type": "code",
   "execution_count": 20,
   "id": "361c4c32",
   "metadata": {
    "execution": {
     "iopub.execute_input": "2023-08-01T07:42:01.728977Z",
     "iopub.status.busy": "2023-08-01T07:42:01.728477Z",
     "iopub.status.idle": "2023-08-01T07:42:02.420071Z",
     "shell.execute_reply": "2023-08-01T07:42:02.418740Z"
    },
    "papermill": {
     "duration": 0.728215,
     "end_time": "2023-08-01T07:42:02.422631",
     "exception": false,
     "start_time": "2023-08-01T07:42:01.694416",
     "status": "completed"
    },
    "tags": []
   },
   "outputs": [
    {
     "data": {
      "image/png": "[encoded data removed]",
      "text/plain": [
       "<Figure size 872x432 with 2 Axes>"
      ]
     },
     "metadata": {
      "needs_background": "light"
     },
     "output_type": "display_data"
    }
   ],
   "source": [
    "# построим распределение возраста мужчин и женщин\n",
    "\n",
    "grid = sns.FacetGrid(train, col='Sex', height=6)\n",
    "grid.map(plt.hist, 'Age', bins=25)\n",
    "grid.add_legend()\n",
    "grid.fig.suptitle('Распределение возраста мужчин и женщин')\n",
    "grid.fig.subplots_adjust(top=0.8);"
   ]
  },
  {
   "cell_type": "markdown",
   "id": "ba71dbf1",
   "metadata": {
    "papermill": {
     "duration": 0.032607,
     "end_time": "2023-08-01T07:42:02.488769",
     "exception": false,
     "start_time": "2023-08-01T07:42:02.456162",
     "status": "completed"
    },
    "tags": []
   },
   "source": [
    "Заметно много молодых мужчин в возрасте от 20 до 30 лет."
   ]
  },
  {
   "cell_type": "markdown",
   "id": "49ce37d3",
   "metadata": {
    "papermill": {
     "duration": 0.03233,
     "end_time": "2023-08-01T07:42:02.554097",
     "exception": false,
     "start_time": "2023-08-01T07:42:02.521767",
     "status": "completed"
    },
    "tags": []
   },
   "source": [
    "**Вывод**\n",
    "\n",
    "В обучающей выборке есть небольшой дисбаланс классов: почти 40% выживших. Анализ данных показал, что у женщин и у людей из 1 класса несколько больше шансов выжить."
   ]
  },
  {
   "cell_type": "markdown",
   "id": "8e98d42f",
   "metadata": {
    "papermill": {
     "duration": 0.032667,
     "end_time": "2023-08-01T07:42:02.619733",
     "exception": false,
     "start_time": "2023-08-01T07:42:02.587066",
     "status": "completed"
    },
    "tags": []
   },
   "source": [
    "## Предобработка данных"
   ]
  },
  {
   "cell_type": "markdown",
   "id": "cb736ae7",
   "metadata": {
    "papermill": {
     "duration": 0.032293,
     "end_time": "2023-08-01T07:42:02.686286",
     "exception": false,
     "start_time": "2023-08-01T07:42:02.653993",
     "status": "completed"
    },
    "tags": []
   },
   "source": [
    "Удалим колонку `Cabin` из обеих выборок, т.к. пропусков в ней слишком много, а восстановить их проблематично. Плюс ко всему, данная колонка не несет особой ценности. Также удалим колонку `PassengerId`, т.к. это просто порядковый номер пассажира. Колонки `Name` и `Ticket` тоже не представляют пользу."
   ]
  },
  {
   "cell_type": "code",
   "execution_count": 21,
   "id": "6de3544b",
   "metadata": {
    "execution": {
     "iopub.execute_input": "2023-08-01T07:42:02.753174Z",
     "iopub.status.busy": "2023-08-01T07:42:02.752730Z",
     "iopub.status.idle": "2023-08-01T07:42:02.761944Z",
     "shell.execute_reply": "2023-08-01T07:42:02.760605Z"
    },
    "papermill": {
     "duration": 0.04591,
     "end_time": "2023-08-01T07:42:02.764668",
     "exception": false,
     "start_time": "2023-08-01T07:42:02.718758",
     "status": "completed"
    },
    "tags": []
   },
   "outputs": [],
   "source": [
    "train.drop(['Cabin', 'PassengerId', 'Name', 'Ticket'], axis=1, inplace=True)\n",
    "test.drop(['Cabin', 'PassengerId', 'Name', 'Ticket'], axis=1, inplace=True)"
   ]
  },
  {
   "cell_type": "markdown",
   "id": "934cf18d",
   "metadata": {
    "papermill": {
     "duration": 0.032259,
     "end_time": "2023-08-01T07:42:02.829698",
     "exception": false,
     "start_time": "2023-08-01T07:42:02.797439",
     "status": "completed"
    },
    "tags": []
   },
   "source": [
    "Заполним пропуски возраста в обучающей выборке медианными значениями с группировкой по полу."
   ]
  },
  {
   "cell_type": "code",
   "execution_count": 22,
   "id": "3fbdb823",
   "metadata": {
    "execution": {
     "iopub.execute_input": "2023-08-01T07:42:02.896434Z",
     "iopub.status.busy": "2023-08-01T07:42:02.896008Z",
     "iopub.status.idle": "2023-08-01T07:42:02.909111Z",
     "shell.execute_reply": "2023-08-01T07:42:02.907837Z"
    },
    "papermill": {
     "duration": 0.049594,
     "end_time": "2023-08-01T07:42:02.911754",
     "exception": false,
     "start_time": "2023-08-01T07:42:02.862160",
     "status": "completed"
    },
    "tags": []
   },
   "outputs": [],
   "source": [
    "for sex in train['Sex'].unique(): \n",
    "    train.loc[(train['Sex'] == sex) & (train['Age'].isna()), 'Age'] = \\\n",
    "    train.loc[(train['Sex'] == sex), 'Age'].median()"
   ]
  },
  {
   "cell_type": "markdown",
   "id": "cfcc0193",
   "metadata": {
    "papermill": {
     "duration": 0.032262,
     "end_time": "2023-08-01T07:42:02.976522",
     "exception": false,
     "start_time": "2023-08-01T07:42:02.944260",
     "status": "completed"
    },
    "tags": []
   },
   "source": [
    "В тестовой выборке также заполним пропуски возраста медианами **обучающей** выборки с группировкой по полу, чтобы избежать утечки данных."
   ]
  },
  {
   "cell_type": "code",
   "execution_count": 23,
   "id": "1d9d0259",
   "metadata": {
    "execution": {
     "iopub.execute_input": "2023-08-01T07:42:03.044598Z",
     "iopub.status.busy": "2023-08-01T07:42:03.044159Z",
     "iopub.status.idle": "2023-08-01T07:42:03.055843Z",
     "shell.execute_reply": "2023-08-01T07:42:03.054615Z"
    },
    "papermill": {
     "duration": 0.049323,
     "end_time": "2023-08-01T07:42:03.058502",
     "exception": false,
     "start_time": "2023-08-01T07:42:03.009179",
     "status": "completed"
    },
    "tags": []
   },
   "outputs": [],
   "source": [
    "for sex in test['Sex'].unique(): \n",
    "    test.loc[(test['Sex'] == sex) & (test['Age'].isna()), 'Age'] = \\\n",
    "    train.loc[(train['Sex'] == sex), 'Age'].median()"
   ]
  },
  {
   "cell_type": "code",
   "execution_count": 24,
   "id": "5638abf5",
   "metadata": {
    "execution": {
     "iopub.execute_input": "2023-08-01T07:42:03.126578Z",
     "iopub.status.busy": "2023-08-01T07:42:03.125301Z",
     "iopub.status.idle": "2023-08-01T07:42:03.133984Z",
     "shell.execute_reply": "2023-08-01T07:42:03.132787Z"
    },
    "papermill": {
     "duration": 0.045332,
     "end_time": "2023-08-01T07:42:03.136695",
     "exception": false,
     "start_time": "2023-08-01T07:42:03.091363",
     "status": "completed"
    },
    "tags": []
   },
   "outputs": [],
   "source": [
    "# удалим оставшиеся пропуски в колонке Embarked обучающей выборки\n",
    "\n",
    "train = train.dropna()"
   ]
  },
  {
   "cell_type": "markdown",
   "id": "085441d6",
   "metadata": {
    "papermill": {
     "duration": 0.032762,
     "end_time": "2023-08-01T07:42:03.202451",
     "exception": false,
     "start_time": "2023-08-01T07:42:03.169689",
     "status": "completed"
    },
    "tags": []
   },
   "source": [
    "Пропуск в колонке `Fare` тестовой выборки заполним медианным значением **обучающей** выборки с группировкой по классу билета."
   ]
  },
  {
   "cell_type": "code",
   "execution_count": 25,
   "id": "989b39cf",
   "metadata": {
    "execution": {
     "iopub.execute_input": "2023-08-01T07:42:03.270515Z",
     "iopub.status.busy": "2023-08-01T07:42:03.270091Z",
     "iopub.status.idle": "2023-08-01T07:42:03.283780Z",
     "shell.execute_reply": "2023-08-01T07:42:03.282501Z"
    },
    "papermill": {
     "duration": 0.050972,
     "end_time": "2023-08-01T07:42:03.286499",
     "exception": false,
     "start_time": "2023-08-01T07:42:03.235527",
     "status": "completed"
    },
    "tags": []
   },
   "outputs": [],
   "source": [
    "for c in test['Pclass'].unique(): \n",
    "    test.loc[(test['Pclass'] == c) & (test['Fare'].isna()), 'Fare'] = \\\n",
    "    train.loc[(train['Pclass'] == c), 'Fare'].median()"
   ]
  },
  {
   "cell_type": "code",
   "execution_count": 26,
   "id": "4b12b899",
   "metadata": {
    "execution": {
     "iopub.execute_input": "2023-08-01T07:42:03.354332Z",
     "iopub.status.busy": "2023-08-01T07:42:03.353860Z",
     "iopub.status.idle": "2023-08-01T07:42:03.379608Z",
     "shell.execute_reply": "2023-08-01T07:42:03.377755Z"
    },
    "papermill": {
     "duration": 0.06314,
     "end_time": "2023-08-01T07:42:03.382370",
     "exception": false,
     "start_time": "2023-08-01T07:42:03.319230",
     "status": "completed"
    },
    "tags": []
   },
   "outputs": [
    {
     "name": "stdout",
     "output_type": "stream",
     "text": [
      "Обучающая выборка:\n",
      "<class 'pandas.core.frame.DataFrame'>\n",
      "Int64Index: 889 entries, 0 to 890\n",
      "Data columns (total 8 columns):\n",
      " #   Column    Non-Null Count  Dtype  \n",
      "---  ------    --------------  -----  \n",
      " 0   Survived  889 non-null    int64  \n",
      " 1   Pclass    889 non-null    int64  \n",
      " 2   Sex       889 non-null    object \n",
      " 3   Age       889 non-null    float64\n",
      " 4   SibSp     889 non-null    int64  \n",
      " 5   Parch     889 non-null    int64  \n",
      " 6   Fare      889 non-null    float64\n",
      " 7   Embarked  889 non-null    object \n",
      "dtypes: float64(2), int64(4), object(2)\n",
      "memory usage: 62.5+ KB\n",
      "None\n",
      "\n",
      "Тестовая выборка:\n",
      "<class 'pandas.core.frame.DataFrame'>\n",
      "RangeIndex: 418 entries, 0 to 417\n",
      "Data columns (total 7 columns):\n",
      " #   Column    Non-Null Count  Dtype  \n",
      "---  ------    --------------  -----  \n",
      " 0   Pclass    418 non-null    int64  \n",
      " 1   Sex       418 non-null    object \n",
      " 2   Age       418 non-null    float64\n",
      " 3   SibSp     418 non-null    int64  \n",
      " 4   Parch     418 non-null    int64  \n",
      " 5   Fare      418 non-null    float64\n",
      " 6   Embarked  418 non-null    object \n",
      "dtypes: float64(2), int64(3), object(2)\n",
      "memory usage: 23.0+ KB\n"
     ]
    }
   ],
   "source": [
    "# снова взглянем на общую информацию о данных\n",
    "\n",
    "print('Обучающая выборка:')\n",
    "print(train.info())\n",
    "print()\n",
    "print('Тестовая выборка:')\n",
    "test.info()"
   ]
  },
  {
   "cell_type": "markdown",
   "id": "97845c93",
   "metadata": {
    "execution": {
     "iopub.execute_input": "2023-07-02T15:27:20.670752Z",
     "iopub.status.busy": "2023-07-02T15:27:20.670305Z",
     "iopub.status.idle": "2023-07-02T15:27:20.676744Z",
     "shell.execute_reply": "2023-07-02T15:27:20.675203Z",
     "shell.execute_reply.started": "2023-07-02T15:27:20.670713Z"
    },
    "papermill": {
     "duration": 0.032397,
     "end_time": "2023-08-01T07:42:03.447472",
     "exception": false,
     "start_time": "2023-08-01T07:42:03.415075",
     "status": "completed"
    },
    "tags": []
   },
   "source": [
    "Пропусков в данных больше нет."
   ]
  },
  {
   "cell_type": "code",
   "execution_count": 27,
   "id": "5fcaadad",
   "metadata": {
    "execution": {
     "iopub.execute_input": "2023-08-01T07:42:03.514365Z",
     "iopub.status.busy": "2023-08-01T07:42:03.513910Z",
     "iopub.status.idle": "2023-08-01T07:42:03.530154Z",
     "shell.execute_reply": "2023-08-01T07:42:03.529284Z"
    },
    "papermill": {
     "duration": 0.05232,
     "end_time": "2023-08-01T07:42:03.532397",
     "exception": false,
     "start_time": "2023-08-01T07:42:03.480077",
     "status": "completed"
    },
    "tags": []
   },
   "outputs": [
    {
     "data": {
      "text/html": [
       "<div>\n",
       "<style scoped>\n",
       "    .dataframe tbody tr th:only-of-type {\n",
       "        vertical-align: middle;\n",
       "    }\n",
       "\n",
       "    .dataframe tbody tr th {\n",
       "        vertical-align: top;\n",
       "    }\n",
       "\n",
       "    .dataframe thead th {\n",
       "        text-align: right;\n",
       "    }\n",
       "</style>\n",
       "<table border=\"1\" class=\"dataframe\">\n",
       "  <thead>\n",
       "    <tr style=\"text-align: right;\">\n",
       "      <th></th>\n",
       "      <th>Survived</th>\n",
       "      <th>Pclass</th>\n",
       "      <th>Sex</th>\n",
       "      <th>Age</th>\n",
       "      <th>SibSp</th>\n",
       "      <th>Parch</th>\n",
       "      <th>Fare</th>\n",
       "      <th>Embarked</th>\n",
       "    </tr>\n",
       "  </thead>\n",
       "  <tbody>\n",
       "    <tr>\n",
       "      <th>0</th>\n",
       "      <td>0</td>\n",
       "      <td>3</td>\n",
       "      <td>male</td>\n",
       "      <td>22.0</td>\n",
       "      <td>1</td>\n",
       "      <td>0</td>\n",
       "      <td>7.2500</td>\n",
       "      <td>S</td>\n",
       "    </tr>\n",
       "    <tr>\n",
       "      <th>1</th>\n",
       "      <td>1</td>\n",
       "      <td>1</td>\n",
       "      <td>female</td>\n",
       "      <td>38.0</td>\n",
       "      <td>1</td>\n",
       "      <td>0</td>\n",
       "      <td>71.2833</td>\n",
       "      <td>C</td>\n",
       "    </tr>\n",
       "    <tr>\n",
       "      <th>2</th>\n",
       "      <td>1</td>\n",
       "      <td>3</td>\n",
       "      <td>female</td>\n",
       "      <td>26.0</td>\n",
       "      <td>0</td>\n",
       "      <td>0</td>\n",
       "      <td>7.9250</td>\n",
       "      <td>S</td>\n",
       "    </tr>\n",
       "    <tr>\n",
       "      <th>3</th>\n",
       "      <td>1</td>\n",
       "      <td>1</td>\n",
       "      <td>female</td>\n",
       "      <td>35.0</td>\n",
       "      <td>1</td>\n",
       "      <td>0</td>\n",
       "      <td>53.1000</td>\n",
       "      <td>S</td>\n",
       "    </tr>\n",
       "    <tr>\n",
       "      <th>4</th>\n",
       "      <td>0</td>\n",
       "      <td>3</td>\n",
       "      <td>male</td>\n",
       "      <td>35.0</td>\n",
       "      <td>0</td>\n",
       "      <td>0</td>\n",
       "      <td>8.0500</td>\n",
       "      <td>S</td>\n",
       "    </tr>\n",
       "  </tbody>\n",
       "</table>\n",
       "</div>"
      ],
      "text/plain": [
       "   Survived  Pclass     Sex   Age  SibSp  Parch     Fare Embarked\n",
       "0         0       3    male  22.0      1      0   7.2500        S\n",
       "1         1       1  female  38.0      1      0  71.2833        C\n",
       "2         1       3  female  26.0      0      0   7.9250        S\n",
       "3         1       1  female  35.0      1      0  53.1000        S\n",
       "4         0       3    male  35.0      0      0   8.0500        S"
      ]
     },
     "execution_count": 27,
     "metadata": {},
     "output_type": "execute_result"
    }
   ],
   "source": [
    "train.head()"
   ]
  },
  {
   "cell_type": "markdown",
   "id": "5b4e7ae1",
   "metadata": {
    "papermill": {
     "duration": 0.033103,
     "end_time": "2023-08-01T07:42:03.599692",
     "exception": false,
     "start_time": "2023-08-01T07:42:03.566589",
     "status": "completed"
    },
    "tags": []
   },
   "source": [
    "Перекодируем категориальные переменные `Sex` и `Embarked` в числовой вид. Также стоит отметить, что колонка `Pclass` по пути тоже содержит категориальные значения, поэтому эту колонку тоже перекодируем. Для этого заранее переведем ее значания в строковый формат.\n"
   ]
  },
  {
   "cell_type": "code",
   "execution_count": 28,
   "id": "5687fbc2",
   "metadata": {
    "execution": {
     "iopub.execute_input": "2023-08-01T07:42:03.669750Z",
     "iopub.status.busy": "2023-08-01T07:42:03.669261Z",
     "iopub.status.idle": "2023-08-01T07:42:03.680043Z",
     "shell.execute_reply": "2023-08-01T07:42:03.678281Z"
    },
    "papermill": {
     "duration": 0.048965,
     "end_time": "2023-08-01T07:42:03.682488",
     "exception": false,
     "start_time": "2023-08-01T07:42:03.633523",
     "status": "completed"
    },
    "tags": []
   },
   "outputs": [
    {
     "name": "stderr",
     "output_type": "stream",
     "text": [
      "/opt/conda/lib/python3.7/site-packages/ipykernel_launcher.py:1: SettingWithCopyWarning: \n",
      "A value is trying to be set on a copy of a slice from a DataFrame.\n",
      "Try using .loc[row_indexer,col_indexer] = value instead\n",
      "\n",
      "See the caveats in the documentation: https://pandas.pydata.org/pandas-docs/stable/user_guide/indexing.html#returning-a-view-versus-a-copy\n",
      "  \"\"\"Entry point for launching an IPython kernel.\n"
     ]
    }
   ],
   "source": [
    "train['Pclass'] = train['Pclass'].astype('str')\n",
    "test['Pclass'] = test['Pclass'].astype('str')"
   ]
  },
  {
   "cell_type": "code",
   "execution_count": 29,
   "id": "498105a6",
   "metadata": {
    "execution": {
     "iopub.execute_input": "2023-08-01T07:42:03.751563Z",
     "iopub.status.busy": "2023-08-01T07:42:03.751094Z",
     "iopub.status.idle": "2023-08-01T07:42:03.771544Z",
     "shell.execute_reply": "2023-08-01T07:42:03.770296Z"
    },
    "papermill": {
     "duration": 0.058386,
     "end_time": "2023-08-01T07:42:03.774567",
     "exception": false,
     "start_time": "2023-08-01T07:42:03.716181",
     "status": "completed"
    },
    "tags": []
   },
   "outputs": [],
   "source": [
    "# перекодируем категориальные переменные в числовой вид\n",
    "\n",
    "train = pd.get_dummies(train)\n",
    "test = pd.get_dummies(test)"
   ]
  },
  {
   "cell_type": "code",
   "execution_count": 30,
   "id": "44041625",
   "metadata": {
    "execution": {
     "iopub.execute_input": "2023-08-01T07:42:03.843306Z",
     "iopub.status.busy": "2023-08-01T07:42:03.842819Z",
     "iopub.status.idle": "2023-08-01T07:42:03.867682Z",
     "shell.execute_reply": "2023-08-01T07:42:03.866132Z"
    },
    "papermill": {
     "duration": 0.063236,
     "end_time": "2023-08-01T07:42:03.870746",
     "exception": false,
     "start_time": "2023-08-01T07:42:03.807510",
     "status": "completed"
    },
    "tags": []
   },
   "outputs": [
    {
     "data": {
      "text/html": [
       "<div>\n",
       "<style scoped>\n",
       "    .dataframe tbody tr th:only-of-type {\n",
       "        vertical-align: middle;\n",
       "    }\n",
       "\n",
       "    .dataframe tbody tr th {\n",
       "        vertical-align: top;\n",
       "    }\n",
       "\n",
       "    .dataframe thead th {\n",
       "        text-align: right;\n",
       "    }\n",
       "</style>\n",
       "<table border=\"1\" class=\"dataframe\">\n",
       "  <thead>\n",
       "    <tr style=\"text-align: right;\">\n",
       "      <th></th>\n",
       "      <th>Survived</th>\n",
       "      <th>Age</th>\n",
       "      <th>SibSp</th>\n",
       "      <th>Parch</th>\n",
       "      <th>Fare</th>\n",
       "      <th>Pclass_1</th>\n",
       "      <th>Pclass_2</th>\n",
       "      <th>Pclass_3</th>\n",
       "      <th>Sex_female</th>\n",
       "      <th>Sex_male</th>\n",
       "      <th>Embarked_C</th>\n",
       "      <th>Embarked_Q</th>\n",
       "      <th>Embarked_S</th>\n",
       "    </tr>\n",
       "  </thead>\n",
       "  <tbody>\n",
       "    <tr>\n",
       "      <th>0</th>\n",
       "      <td>0</td>\n",
       "      <td>22.0</td>\n",
       "      <td>1</td>\n",
       "      <td>0</td>\n",
       "      <td>7.2500</td>\n",
       "      <td>0</td>\n",
       "      <td>0</td>\n",
       "      <td>1</td>\n",
       "      <td>0</td>\n",
       "      <td>1</td>\n",
       "      <td>0</td>\n",
       "      <td>0</td>\n",
       "      <td>1</td>\n",
       "    </tr>\n",
       "    <tr>\n",
       "      <th>1</th>\n",
       "      <td>1</td>\n",
       "      <td>38.0</td>\n",
       "      <td>1</td>\n",
       "      <td>0</td>\n",
       "      <td>71.2833</td>\n",
       "      <td>1</td>\n",
       "      <td>0</td>\n",
       "      <td>0</td>\n",
       "      <td>1</td>\n",
       "      <td>0</td>\n",
       "      <td>1</td>\n",
       "      <td>0</td>\n",
       "      <td>0</td>\n",
       "    </tr>\n",
       "    <tr>\n",
       "      <th>2</th>\n",
       "      <td>1</td>\n",
       "      <td>26.0</td>\n",
       "      <td>0</td>\n",
       "      <td>0</td>\n",
       "      <td>7.9250</td>\n",
       "      <td>0</td>\n",
       "      <td>0</td>\n",
       "      <td>1</td>\n",
       "      <td>1</td>\n",
       "      <td>0</td>\n",
       "      <td>0</td>\n",
       "      <td>0</td>\n",
       "      <td>1</td>\n",
       "    </tr>\n",
       "    <tr>\n",
       "      <th>3</th>\n",
       "      <td>1</td>\n",
       "      <td>35.0</td>\n",
       "      <td>1</td>\n",
       "      <td>0</td>\n",
       "      <td>53.1000</td>\n",
       "      <td>1</td>\n",
       "      <td>0</td>\n",
       "      <td>0</td>\n",
       "      <td>1</td>\n",
       "      <td>0</td>\n",
       "      <td>0</td>\n",
       "      <td>0</td>\n",
       "      <td>1</td>\n",
       "    </tr>\n",
       "    <tr>\n",
       "      <th>4</th>\n",
       "      <td>0</td>\n",
       "      <td>35.0</td>\n",
       "      <td>0</td>\n",
       "      <td>0</td>\n",
       "      <td>8.0500</td>\n",
       "      <td>0</td>\n",
       "      <td>0</td>\n",
       "      <td>1</td>\n",
       "      <td>0</td>\n",
       "      <td>1</td>\n",
       "      <td>0</td>\n",
       "      <td>0</td>\n",
       "      <td>1</td>\n",
       "    </tr>\n",
       "  </tbody>\n",
       "</table>\n",
       "</div>"
      ],
      "text/plain": [
       "   Survived   Age  SibSp  Parch     Fare  Pclass_1  Pclass_2  Pclass_3  \\\n",
       "0         0  22.0      1      0   7.2500         0         0         1   \n",
       "1         1  38.0      1      0  71.2833         1         0         0   \n",
       "2         1  26.0      0      0   7.9250         0         0         1   \n",
       "3         1  35.0      1      0  53.1000         1         0         0   \n",
       "4         0  35.0      0      0   8.0500         0         0         1   \n",
       "\n",
       "   Sex_female  Sex_male  Embarked_C  Embarked_Q  Embarked_S  \n",
       "0           0         1           0           0           1  \n",
       "1           1         0           1           0           0  \n",
       "2           1         0           0           0           1  \n",
       "3           1         0           0           0           1  \n",
       "4           0         1           0           0           1  "
      ]
     },
     "execution_count": 30,
     "metadata": {},
     "output_type": "execute_result"
    }
   ],
   "source": [
    "train.head()\n"
   ]
  },
  {
   "cell_type": "code",
   "execution_count": 31,
   "id": "05fc47b6",
   "metadata": {
    "execution": {
     "iopub.execute_input": "2023-08-01T07:42:03.941523Z",
     "iopub.status.busy": "2023-08-01T07:42:03.940636Z",
     "iopub.status.idle": "2023-08-01T07:42:03.958619Z",
     "shell.execute_reply": "2023-08-01T07:42:03.957404Z"
    },
    "papermill": {
     "duration": 0.056466,
     "end_time": "2023-08-01T07:42:03.961130",
     "exception": false,
     "start_time": "2023-08-01T07:42:03.904664",
     "status": "completed"
    },
    "tags": []
   },
   "outputs": [
    {
     "data": {
      "text/html": [
       "<div>\n",
       "<style scoped>\n",
       "    .dataframe tbody tr th:only-of-type {\n",
       "        vertical-align: middle;\n",
       "    }\n",
       "\n",
       "    .dataframe tbody tr th {\n",
       "        vertical-align: top;\n",
       "    }\n",
       "\n",
       "    .dataframe thead th {\n",
       "        text-align: right;\n",
       "    }\n",
       "</style>\n",
       "<table border=\"1\" class=\"dataframe\">\n",
       "  <thead>\n",
       "    <tr style=\"text-align: right;\">\n",
       "      <th></th>\n",
       "      <th>Age</th>\n",
       "      <th>SibSp</th>\n",
       "      <th>Parch</th>\n",
       "      <th>Fare</th>\n",
       "      <th>Pclass_1</th>\n",
       "      <th>Pclass_2</th>\n",
       "      <th>Pclass_3</th>\n",
       "      <th>Sex_female</th>\n",
       "      <th>Sex_male</th>\n",
       "      <th>Embarked_C</th>\n",
       "      <th>Embarked_Q</th>\n",
       "      <th>Embarked_S</th>\n",
       "    </tr>\n",
       "  </thead>\n",
       "  <tbody>\n",
       "    <tr>\n",
       "      <th>0</th>\n",
       "      <td>34.5</td>\n",
       "      <td>0</td>\n",
       "      <td>0</td>\n",
       "      <td>7.8292</td>\n",
       "      <td>0</td>\n",
       "      <td>0</td>\n",
       "      <td>1</td>\n",
       "      <td>0</td>\n",
       "      <td>1</td>\n",
       "      <td>0</td>\n",
       "      <td>1</td>\n",
       "      <td>0</td>\n",
       "    </tr>\n",
       "    <tr>\n",
       "      <th>1</th>\n",
       "      <td>47.0</td>\n",
       "      <td>1</td>\n",
       "      <td>0</td>\n",
       "      <td>7.0000</td>\n",
       "      <td>0</td>\n",
       "      <td>0</td>\n",
       "      <td>1</td>\n",
       "      <td>1</td>\n",
       "      <td>0</td>\n",
       "      <td>0</td>\n",
       "      <td>0</td>\n",
       "      <td>1</td>\n",
       "    </tr>\n",
       "    <tr>\n",
       "      <th>2</th>\n",
       "      <td>62.0</td>\n",
       "      <td>0</td>\n",
       "      <td>0</td>\n",
       "      <td>9.6875</td>\n",
       "      <td>0</td>\n",
       "      <td>1</td>\n",
       "      <td>0</td>\n",
       "      <td>0</td>\n",
       "      <td>1</td>\n",
       "      <td>0</td>\n",
       "      <td>1</td>\n",
       "      <td>0</td>\n",
       "    </tr>\n",
       "    <tr>\n",
       "      <th>3</th>\n",
       "      <td>27.0</td>\n",
       "      <td>0</td>\n",
       "      <td>0</td>\n",
       "      <td>8.6625</td>\n",
       "      <td>0</td>\n",
       "      <td>0</td>\n",
       "      <td>1</td>\n",
       "      <td>0</td>\n",
       "      <td>1</td>\n",
       "      <td>0</td>\n",
       "      <td>0</td>\n",
       "      <td>1</td>\n",
       "    </tr>\n",
       "    <tr>\n",
       "      <th>4</th>\n",
       "      <td>22.0</td>\n",
       "      <td>1</td>\n",
       "      <td>1</td>\n",
       "      <td>12.2875</td>\n",
       "      <td>0</td>\n",
       "      <td>0</td>\n",
       "      <td>1</td>\n",
       "      <td>1</td>\n",
       "      <td>0</td>\n",
       "      <td>0</td>\n",
       "      <td>0</td>\n",
       "      <td>1</td>\n",
       "    </tr>\n",
       "  </tbody>\n",
       "</table>\n",
       "</div>"
      ],
      "text/plain": [
       "    Age  SibSp  Parch     Fare  Pclass_1  Pclass_2  Pclass_3  Sex_female  \\\n",
       "0  34.5      0      0   7.8292         0         0         1           0   \n",
       "1  47.0      1      0   7.0000         0         0         1           1   \n",
       "2  62.0      0      0   9.6875         0         1         0           0   \n",
       "3  27.0      0      0   8.6625         0         0         1           0   \n",
       "4  22.0      1      1  12.2875         0         0         1           1   \n",
       "\n",
       "   Sex_male  Embarked_C  Embarked_Q  Embarked_S  \n",
       "0         1           0           1           0  \n",
       "1         0           0           0           1  \n",
       "2         1           0           1           0  \n",
       "3         1           0           0           1  \n",
       "4         0           0           0           1  "
      ]
     },
     "execution_count": 31,
     "metadata": {},
     "output_type": "execute_result"
    }
   ],
   "source": [
    "test.head()"
   ]
  },
  {
   "cell_type": "markdown",
   "id": "306db94c",
   "metadata": {
    "papermill": {
     "duration": 0.033476,
     "end_time": "2023-08-01T07:42:04.028883",
     "exception": false,
     "start_time": "2023-08-01T07:42:03.995407",
     "status": "completed"
    },
    "tags": []
   },
   "source": [
    "Теперь посмотрим, как признаки коррелируют друг с другом."
   ]
  },
  {
   "cell_type": "code",
   "execution_count": 32,
   "id": "285340bd",
   "metadata": {
    "execution": {
     "iopub.execute_input": "2023-08-01T07:42:04.100727Z",
     "iopub.status.busy": "2023-08-01T07:42:04.100257Z",
     "iopub.status.idle": "2023-08-01T07:42:05.419487Z",
     "shell.execute_reply": "2023-08-01T07:42:05.418435Z"
    },
    "papermill": {
     "duration": 1.359549,
     "end_time": "2023-08-01T07:42:05.423684",
     "exception": false,
     "start_time": "2023-08-01T07:42:04.064135",
     "status": "completed"
    },
    "tags": []
   },
   "outputs": [
    {
     "data": {
      "image/png": "[encoded data removed]",
      "text/plain": [
       "<Figure size 1152x864 with 2 Axes>"
      ]
     },
     "metadata": {
      "needs_background": "light"
     },
     "output_type": "display_data"
    }
   ],
   "source": [
    "# построим матрицу корреляций признаков\n",
    "\n",
    "plt.figure(figsize=(16, 12))\n",
    "sns.heatmap(train.corr(), annot=True)\n",
    "plt.title('Матрица корреляций признаков'+'\\n', fontsize=15);"
   ]
  },
  {
   "cell_type": "markdown",
   "id": "4efc7ba0",
   "metadata": {
    "papermill": {
     "duration": 0.035749,
     "end_time": "2023-08-01T07:42:05.496967",
     "exception": false,
     "start_time": "2023-08-01T07:42:05.461218",
     "status": "completed"
    },
    "tags": []
   },
   "source": [
    "Из важного для нас: заметнее всего корреляция между выживанием и полом (-0,54 у мужчин, 0,54 у женщин соответственно). То есть, как мы заметили раньше, похоже женщины имеют больше шансов выжить. Также можно заменить слабую отрицательную корреляцию между выживанием и 3 классом билета (-0,32). И наоборот, есть слабая положительная корреляция (0,28) между выживанием и 1 классом. Что опять же подтверждает наше недавнее замечание о том, пассажиры с более дешевым классом билетов имеют меньше шансов выжить."
   ]
  },
  {
   "cell_type": "markdown",
   "id": "6141a7b1",
   "metadata": {
    "papermill": {
     "duration": 0.035586,
     "end_time": "2023-08-01T07:42:05.568601",
     "exception": false,
     "start_time": "2023-08-01T07:42:05.533015",
     "status": "completed"
    },
    "tags": []
   },
   "source": [
    "**Вывод**\n",
    "\n",
    "Пропуски возраста в обучающей и тестовой выборках заполнили медианными значениями обучающей выборки с группировкой по полу. Пропуск в колонке `Fare` тестовой выборки заполнили медианой обучающей выборки с группировкой по классу билета. От пропусков в колонке `Cabin` избавились, просто удалив колонку: там пропосков слишком много. Также удалили столбцы `PassengerId`, `Name` и `Ticket` как бесполезные. Сделали перекодировку категориальных переменных для подготовки данных к обучению. Матрица корреляции признаков подтвердила, что у женщин и у людей из 1 класса несколько больше шансов выжить."
   ]
  },
  {
   "cell_type": "markdown",
   "id": "70ac2f80",
   "metadata": {
    "papermill": {
     "duration": 0.035944,
     "end_time": "2023-08-01T07:42:05.640740",
     "exception": false,
     "start_time": "2023-08-01T07:42:05.604796",
     "status": "completed"
    },
    "tags": []
   },
   "source": [
    "## Обучение моделей"
   ]
  },
  {
   "cell_type": "markdown",
   "id": "ced3d53f",
   "metadata": {
    "papermill": {
     "duration": 0.035798,
     "end_time": "2023-08-01T07:42:05.714662",
     "exception": false,
     "start_time": "2023-08-01T07:42:05.678864",
     "status": "completed"
    },
    "tags": []
   },
   "source": [
    "Подготовим данные к обучению. Разделим обучающую выборку на обучающу и валидационную. Сделаем стратификацию по колонке `Survived`."
   ]
  },
  {
   "cell_type": "code",
   "execution_count": 33,
   "id": "14791f84",
   "metadata": {
    "execution": {
     "iopub.execute_input": "2023-08-01T07:42:05.788497Z",
     "iopub.status.busy": "2023-08-01T07:42:05.788033Z",
     "iopub.status.idle": "2023-08-01T07:42:05.802155Z",
     "shell.execute_reply": "2023-08-01T07:42:05.800841Z"
    },
    "papermill": {
     "duration": 0.054477,
     "end_time": "2023-08-01T07:42:05.804991",
     "exception": false,
     "start_time": "2023-08-01T07:42:05.750514",
     "status": "completed"
    },
    "tags": []
   },
   "outputs": [],
   "source": [
    "train, valid = train_test_split(train, test_size=0.25, stratify=train['Survived'], random_state=42)\n",
    "\n",
    "features_train = train.drop(['Survived'], axis=1)\n",
    "target_train = train.Survived\n",
    "\n",
    "features_valid = valid.drop(['Survived'], axis=1)\n",
    "target_valid = valid.Survived"
   ]
  },
  {
   "cell_type": "code",
   "execution_count": 34,
   "id": "16fdcc73",
   "metadata": {
    "execution": {
     "iopub.execute_input": "2023-08-01T07:42:05.878853Z",
     "iopub.status.busy": "2023-08-01T07:42:05.878174Z",
     "iopub.status.idle": "2023-08-01T07:42:05.898188Z",
     "shell.execute_reply": "2023-08-01T07:42:05.896825Z"
    },
    "papermill": {
     "duration": 0.060206,
     "end_time": "2023-08-01T07:42:05.901180",
     "exception": false,
     "start_time": "2023-08-01T07:42:05.840974",
     "status": "completed"
    },
    "tags": []
   },
   "outputs": [],
   "source": [
    "# масштабируем признаки\n",
    "\n",
    "scaler = StandardScaler()\n",
    "scaler.fit(features_train)\n",
    "features_train[features_train.columns] = scaler.transform(features_train[features_train.columns])\n",
    "features_valid[features_valid.columns] = scaler.transform(features_valid[features_valid.columns])"
   ]
  },
  {
   "cell_type": "code",
   "execution_count": 35,
   "id": "2b30ab92",
   "metadata": {
    "execution": {
     "iopub.execute_input": "2023-08-01T07:42:05.975246Z",
     "iopub.status.busy": "2023-08-01T07:42:05.974775Z",
     "iopub.status.idle": "2023-08-01T07:42:05.996626Z",
     "shell.execute_reply": "2023-08-01T07:42:05.995376Z"
    },
    "papermill": {
     "duration": 0.061957,
     "end_time": "2023-08-01T07:42:05.999294",
     "exception": false,
     "start_time": "2023-08-01T07:42:05.937337",
     "status": "completed"
    },
    "tags": []
   },
   "outputs": [
    {
     "data": {
      "text/html": [
       "<div>\n",
       "<style scoped>\n",
       "    .dataframe tbody tr th:only-of-type {\n",
       "        vertical-align: middle;\n",
       "    }\n",
       "\n",
       "    .dataframe tbody tr th {\n",
       "        vertical-align: top;\n",
       "    }\n",
       "\n",
       "    .dataframe thead th {\n",
       "        text-align: right;\n",
       "    }\n",
       "</style>\n",
       "<table border=\"1\" class=\"dataframe\">\n",
       "  <thead>\n",
       "    <tr style=\"text-align: right;\">\n",
       "      <th></th>\n",
       "      <th>Age</th>\n",
       "      <th>SibSp</th>\n",
       "      <th>Parch</th>\n",
       "      <th>Fare</th>\n",
       "      <th>Pclass_1</th>\n",
       "      <th>Pclass_2</th>\n",
       "      <th>Pclass_3</th>\n",
       "      <th>Sex_female</th>\n",
       "      <th>Sex_male</th>\n",
       "      <th>Embarked_C</th>\n",
       "      <th>Embarked_Q</th>\n",
       "      <th>Embarked_S</th>\n",
       "    </tr>\n",
       "  </thead>\n",
       "  <tbody>\n",
       "    <tr>\n",
       "      <th>828</th>\n",
       "      <td>-0.060234</td>\n",
       "      <td>-0.468332</td>\n",
       "      <td>-0.441308</td>\n",
       "      <td>-0.483178</td>\n",
       "      <td>-0.548435</td>\n",
       "      <td>-0.527552</td>\n",
       "      <td>0.902615</td>\n",
       "      <td>-0.735980</td>\n",
       "      <td>0.735980</td>\n",
       "      <td>-0.471188</td>\n",
       "      <td>3.207512</td>\n",
       "      <td>-1.643168</td>\n",
       "    </tr>\n",
       "    <tr>\n",
       "      <th>238</th>\n",
       "      <td>-0.838680</td>\n",
       "      <td>-0.468332</td>\n",
       "      <td>-0.441308</td>\n",
       "      <td>-0.426385</td>\n",
       "      <td>-0.548435</td>\n",
       "      <td>1.895548</td>\n",
       "      <td>-1.107892</td>\n",
       "      <td>-0.735980</td>\n",
       "      <td>0.735980</td>\n",
       "      <td>-0.471188</td>\n",
       "      <td>-0.311768</td>\n",
       "      <td>0.608581</td>\n",
       "    </tr>\n",
       "    <tr>\n",
       "      <th>453</th>\n",
       "      <td>1.496659</td>\n",
       "      <td>0.541082</td>\n",
       "      <td>-0.441308</td>\n",
       "      <td>1.196945</td>\n",
       "      <td>1.823369</td>\n",
       "      <td>-0.527552</td>\n",
       "      <td>-1.107892</td>\n",
       "      <td>-0.735980</td>\n",
       "      <td>0.735980</td>\n",
       "      <td>2.122294</td>\n",
       "      <td>-0.311768</td>\n",
       "      <td>-1.643168</td>\n",
       "    </tr>\n",
       "    <tr>\n",
       "      <th>516</th>\n",
       "      <td>0.328989</td>\n",
       "      <td>-0.468332</td>\n",
       "      <td>-0.441308</td>\n",
       "      <td>-0.426385</td>\n",
       "      <td>-0.548435</td>\n",
       "      <td>1.895548</td>\n",
       "      <td>-1.107892</td>\n",
       "      <td>1.358732</td>\n",
       "      <td>-1.358732</td>\n",
       "      <td>-0.471188</td>\n",
       "      <td>-0.311768</td>\n",
       "      <td>0.608581</td>\n",
       "    </tr>\n",
       "    <tr>\n",
       "      <th>383</th>\n",
       "      <td>0.406834</td>\n",
       "      <td>0.541082</td>\n",
       "      <td>-0.441308</td>\n",
       "      <td>0.430671</td>\n",
       "      <td>1.823369</td>\n",
       "      <td>-0.527552</td>\n",
       "      <td>-1.107892</td>\n",
       "      <td>1.358732</td>\n",
       "      <td>-1.358732</td>\n",
       "      <td>-0.471188</td>\n",
       "      <td>-0.311768</td>\n",
       "      <td>0.608581</td>\n",
       "    </tr>\n",
       "  </tbody>\n",
       "</table>\n",
       "</div>"
      ],
      "text/plain": [
       "          Age     SibSp     Parch      Fare  Pclass_1  Pclass_2  Pclass_3  \\\n",
       "828 -0.060234 -0.468332 -0.441308 -0.483178 -0.548435 -0.527552  0.902615   \n",
       "238 -0.838680 -0.468332 -0.441308 -0.426385 -0.548435  1.895548 -1.107892   \n",
       "453  1.496659  0.541082 -0.441308  1.196945  1.823369 -0.527552 -1.107892   \n",
       "516  0.328989 -0.468332 -0.441308 -0.426385 -0.548435  1.895548 -1.107892   \n",
       "383  0.406834  0.541082 -0.441308  0.430671  1.823369 -0.527552 -1.107892   \n",
       "\n",
       "     Sex_female  Sex_male  Embarked_C  Embarked_Q  Embarked_S  \n",
       "828   -0.735980  0.735980   -0.471188    3.207512   -1.643168  \n",
       "238   -0.735980  0.735980   -0.471188   -0.311768    0.608581  \n",
       "453   -0.735980  0.735980    2.122294   -0.311768   -1.643168  \n",
       "516    1.358732 -1.358732   -0.471188   -0.311768    0.608581  \n",
       "383    1.358732 -1.358732   -0.471188   -0.311768    0.608581  "
      ]
     },
     "execution_count": 35,
     "metadata": {},
     "output_type": "execute_result"
    }
   ],
   "source": [
    "features_train.head()"
   ]
  },
  {
   "cell_type": "markdown",
   "id": "47f32990",
   "metadata": {
    "papermill": {
     "duration": 0.036963,
     "end_time": "2023-08-01T07:42:06.072357",
     "exception": false,
     "start_time": "2023-08-01T07:42:06.035394",
     "status": "completed"
    },
    "tags": []
   },
   "source": [
    "Напишем функцию для обучения и оценки моделей."
   ]
  },
  {
   "cell_type": "code",
   "execution_count": 36,
   "id": "56839ec4",
   "metadata": {
    "execution": {
     "iopub.execute_input": "2023-08-01T07:42:06.146824Z",
     "iopub.status.busy": "2023-08-01T07:42:06.146371Z",
     "iopub.status.idle": "2023-08-01T07:42:06.162695Z",
     "shell.execute_reply": "2023-08-01T07:42:06.161593Z"
    },
    "papermill": {
     "duration": 0.056286,
     "end_time": "2023-08-01T07:42:06.165026",
     "exception": false,
     "start_time": "2023-08-01T07:42:06.108740",
     "status": "completed"
    },
    "tags": []
   },
   "outputs": [],
   "source": [
    "def model_estimator(model, params, features_train, target_train, features_valid, target_valid, title=None):\n",
    "    model = RandomizedSearchCV(model, params, cv=5, scoring='accuracy', n_jobs=-1)\n",
    "    model.fit(features_train, target_train)\n",
    "    print('Лучшие гиперпараметры:', model.best_params_)\n",
    "    model = model.best_estimator_\n",
    "    model.fit(features_train, target_train)\n",
    "    predictions = model.predict(features_valid)\n",
    "    #print(classification_report(target_valid, predictions))\n",
    "    f1 = round(f1_score(target_valid, predictions),2)\n",
    "    acc = round(accuracy_score(target_valid, predictions), 2)\n",
    "    roc_auc = round(roc_auc_score(target_valid, model.predict_proba(features_valid)[:, 1]),2)\n",
    "    print('F1:', f1)\n",
    "    print('Accuracy:', acc)\n",
    "    print('ROC AUC:', roc_auc)\n",
    "          \n",
    "    fpr, tpr, thresholds = roc_curve(target_valid, model.predict_proba(features_valid)[:, 1])\n",
    "    plt.figure(figsize=(8,5))\n",
    "    plt.plot(fpr, tpr)\n",
    "    plt.plot([0, 1], [0, 1], linestyle='--')\n",
    "    plt.xlim(0,1) \n",
    "    plt.ylim(0,1)\n",
    "    plt.xlabel(\"False Positive Rate\")\n",
    "    plt.ylabel(\"True Positive Rate\")\n",
    "    plt.title(f'ROC-кривая для {title}', fontsize=15)\n",
    "    plt.show();\n",
    "          \n",
    "    plt.figure(figsize=(10,7))\n",
    "    sns.heatmap(confusion_matrix(target_valid, predictions, normalize='true'), annot=True, fmt='.0%')\n",
    "    plt.title(f'Матрица ошибок для {title}', fontsize=15)\n",
    "    plt.ylabel('Реальные значения')\n",
    "    plt.xlabel('Предсказанные значения');\n",
    "    \n",
    "    return f1, acc, roc_auc"
   ]
  },
  {
   "cell_type": "markdown",
   "id": "f052d95b",
   "metadata": {
    "papermill": {
     "duration": 0.035888,
     "end_time": "2023-08-01T07:42:06.237447",
     "exception": false,
     "start_time": "2023-08-01T07:42:06.201559",
     "status": "completed"
    },
    "tags": []
   },
   "source": [
    "Протестируем разные модели."
   ]
  },
  {
   "cell_type": "markdown",
   "id": "14ead53e",
   "metadata": {
    "papermill": {
     "duration": 0.036856,
     "end_time": "2023-08-01T07:42:06.310740",
     "exception": false,
     "start_time": "2023-08-01T07:42:06.273884",
     "status": "completed"
    },
    "tags": []
   },
   "source": [
    "**Дерево решений**"
   ]
  },
  {
   "cell_type": "code",
   "execution_count": 37,
   "id": "53d7531b",
   "metadata": {
    "execution": {
     "iopub.execute_input": "2023-08-01T07:42:06.386724Z",
     "iopub.status.busy": "2023-08-01T07:42:06.385683Z",
     "iopub.status.idle": "2023-08-01T07:42:14.457548Z",
     "shell.execute_reply": "2023-08-01T07:42:14.456225Z"
    },
    "papermill": {
     "duration": 8.113203,
     "end_time": "2023-08-01T07:42:14.460491",
     "exception": false,
     "start_time": "2023-08-01T07:42:06.347288",
     "status": "completed"
    },
    "tags": []
   },
   "outputs": [
    {
     "name": "stdout",
     "output_type": "stream",
     "text": [
      "Лучшие гиперпараметры: {'max_depth': 5, 'criterion': 'entropy'}\n",
      "F1: 0.75\n",
      "Accuracy: 0.83\n",
      "ROC AUC: 0.84\n"
     ]
    },
    {
     "data": {
      "image/png": "[encoded data removed]",
      "text/plain": [
       "<Figure size 576x360 with 1 Axes>"
      ]
     },
     "metadata": {
      "needs_background": "light"
     },
     "output_type": "display_data"
    },
    {
     "data": {
      "image/png": "[encoded data removed]",
      "text/plain": [
       "<Figure size 720x504 with 2 Axes>"
      ]
     },
     "metadata": {
      "needs_background": "light"
     },
     "output_type": "display_data"
    }
   ],
   "source": [
    "dt = RandomForestClassifier(random_state=12345)\n",
    "dt_params = {'criterion': ['gini', 'entropy'], 'max_depth': range(1, 30)}\n",
    "dt = model_estimator(dt, dt_params, features_train, target_train, features_valid, target_valid, 'Дерева решений')"
   ]
  },
  {
   "cell_type": "markdown",
   "id": "457eefdc",
   "metadata": {
    "papermill": {
     "duration": 0.038356,
     "end_time": "2023-08-01T07:42:14.537168",
     "exception": false,
     "start_time": "2023-08-01T07:42:14.498812",
     "status": "completed"
    },
    "tags": []
   },
   "source": [
    "**Случайный лес**"
   ]
  },
  {
   "cell_type": "code",
   "execution_count": 38,
   "id": "6aca4e47",
   "metadata": {
    "execution": {
     "iopub.execute_input": "2023-08-01T07:42:14.616198Z",
     "iopub.status.busy": "2023-08-01T07:42:14.615755Z",
     "iopub.status.idle": "2023-08-01T07:42:19.967962Z",
     "shell.execute_reply": "2023-08-01T07:42:19.966672Z"
    },
    "papermill": {
     "duration": 5.395617,
     "end_time": "2023-08-01T07:42:19.970775",
     "exception": false,
     "start_time": "2023-08-01T07:42:14.575158",
     "status": "completed"
    },
    "tags": []
   },
   "outputs": [
    {
     "name": "stdout",
     "output_type": "stream",
     "text": [
      "Лучшие гиперпараметры: {'n_estimators': 100, 'max_depth': 6, 'criterion': 'gini'}\n",
      "F1: 0.72\n",
      "Accuracy: 0.81\n",
      "ROC AUC: 0.84\n"
     ]
    },
    {
     "data": {
      "image/png": "[encoded data removed]",
      "text/plain": [
       "<Figure size 576x360 with 1 Axes>"
      ]
     },
     "metadata": {
      "needs_background": "light"
     },
     "output_type": "display_data"
    },
    {
     "data": {
      "image/png": "[encoded data removed]",
      "text/plain": [
       "<Figure size 720x504 with 2 Axes>"
      ]
     },
     "metadata": {
      "needs_background": "light"
     },
     "output_type": "display_data"
    }
   ],
   "source": [
    "rf = RandomForestClassifier(random_state=12345)\n",
    "rf_params = {'n_estimators': [10, 50, 100, 200], 'criterion': ['gini', 'entropy'], 'max_depth': range(1, 30)}\n",
    "rf = model_estimator(rf, rf_params, features_train, target_train, features_valid, target_valid, 'Случайного леса')"
   ]
  },
  {
   "cell_type": "markdown",
   "id": "b957c9d1",
   "metadata": {
    "papermill": {
     "duration": 0.039892,
     "end_time": "2023-08-01T07:42:20.050420",
     "exception": false,
     "start_time": "2023-08-01T07:42:20.010528",
     "status": "completed"
    },
    "tags": []
   },
   "source": [
    "**Логистическая регрессия**"
   ]
  },
  {
   "cell_type": "code",
   "execution_count": 39,
   "id": "9cf590c6",
   "metadata": {
    "execution": {
     "iopub.execute_input": "2023-08-01T07:42:20.132977Z",
     "iopub.status.busy": "2023-08-01T07:42:20.132477Z",
     "iopub.status.idle": "2023-08-01T07:42:20.899435Z",
     "shell.execute_reply": "2023-08-01T07:42:20.898427Z"
    },
    "papermill": {
     "duration": 0.810765,
     "end_time": "2023-08-01T07:42:20.902024",
     "exception": false,
     "start_time": "2023-08-01T07:42:20.091259",
     "status": "completed"
    },
    "tags": []
   },
   "outputs": [
    {
     "name": "stderr",
     "output_type": "stream",
     "text": [
      "/opt/conda/lib/python3.7/site-packages/sklearn/model_selection/_search.py:296: UserWarning: The total space of parameters 8 is smaller than n_iter=10. Running 8 iterations. For exhaustive searches, use GridSearchCV.\n",
      "  UserWarning,\n"
     ]
    },
    {
     "name": "stdout",
     "output_type": "stream",
     "text": [
      "Лучшие гиперпараметры: {'max_iter': 500, 'class_weight': None, 'C': 3.0}\n",
      "F1: 0.71\n",
      "Accuracy: 0.78\n",
      "ROC AUC: 0.84\n"
     ]
    },
    {
     "data": {
      "image/png": "[encoded data removed]",
      "text/plain": [
       "<Figure size 576x360 with 1 Axes>"
      ]
     },
     "metadata": {
      "needs_background": "light"
     },
     "output_type": "display_data"
    },
    {
     "data": {
      "image/png": "[encoded data removed]",
      "text/plain": [
       "<Figure size 720x504 with 2 Axes>"
      ]
     },
     "metadata": {
      "needs_background": "light"
     },
     "output_type": "display_data"
    }
   ],
   "source": [
    "lg = LogisticRegression(random_state=12345)\n",
    "lg_params = {'class_weight':['balanced', None], 'max_iter':[500,1000], 'C':[1.0, 3.0]}\n",
    "lg = model_estimator(lg, lg_params, features_train, target_train, features_valid, target_valid, 'Логистической регресии')"
   ]
  },
  {
   "cell_type": "markdown",
   "id": "e17df3e7",
   "metadata": {
    "papermill": {
     "duration": 0.039469,
     "end_time": "2023-08-01T07:42:20.981234",
     "exception": false,
     "start_time": "2023-08-01T07:42:20.941765",
     "status": "completed"
    },
    "tags": []
   },
   "source": [
    "**Стохастический градиентный спуск**"
   ]
  },
  {
   "cell_type": "code",
   "execution_count": 40,
   "id": "1d46835a",
   "metadata": {
    "execution": {
     "iopub.execute_input": "2023-08-01T07:42:21.063226Z",
     "iopub.status.busy": "2023-08-01T07:42:21.062112Z",
     "iopub.status.idle": "2023-08-01T07:42:21.705340Z",
     "shell.execute_reply": "2023-08-01T07:42:21.704136Z"
    },
    "papermill": {
     "duration": 0.687017,
     "end_time": "2023-08-01T07:42:21.708073",
     "exception": false,
     "start_time": "2023-08-01T07:42:21.021056",
     "status": "completed"
    },
    "tags": []
   },
   "outputs": [
    {
     "name": "stderr",
     "output_type": "stream",
     "text": [
      "/opt/conda/lib/python3.7/site-packages/sklearn/model_selection/_search.py:296: UserWarning: The total space of parameters 8 is smaller than n_iter=10. Running 8 iterations. For exhaustive searches, use GridSearchCV.\n",
      "  UserWarning,\n",
      "/opt/conda/lib/python3.7/site-packages/sklearn/model_selection/_validation.py:372: FitFailedWarning: \n",
      "20 fits failed out of a total of 40.\n",
      "The score on these train-test partitions for these parameters will be set to nan.\n",
      "If these failures are not expected, you can try to debug them by setting error_score='raise'.\n",
      "\n",
      "Below are more details about the failures:\n",
      "--------------------------------------------------------------------------------\n",
      "20 fits failed with the following error:\n",
      "Traceback (most recent call last):\n",
      "  File \"/opt/conda/lib/python3.7/site-packages/sklearn/model_selection/_validation.py\", line 680, in _fit_and_score\n",
      "    estimator.fit(X_train, y_train, **fit_params)\n",
      "  File \"/opt/conda/lib/python3.7/site-packages/sklearn/linear_model/_stochastic_gradient.py\", line 892, in fit\n",
      "    sample_weight=sample_weight,\n",
      "  File \"/opt/conda/lib/python3.7/site-packages/sklearn/linear_model/_stochastic_gradient.py\", line 649, in _fit\n",
      "    self._validate_params()\n",
      "  File \"/opt/conda/lib/python3.7/site-packages/sklearn/linear_model/_stochastic_gradient.py\", line 149, in _validate_params\n",
      "    raise ValueError(\"eta0 must be > 0\")\n",
      "ValueError: eta0 must be > 0\n",
      "\n",
      "  warnings.warn(some_fits_failed_message, FitFailedWarning)\n",
      "/opt/conda/lib/python3.7/site-packages/sklearn/model_selection/_search.py:972: UserWarning: One or more of the test scores are non-finite: [0.75992593 0.75992593        nan        nan 0.76426888 0.76426888\n",
      "        nan        nan]\n",
      "  category=UserWarning,\n"
     ]
    },
    {
     "name": "stdout",
     "output_type": "stream",
     "text": [
      "Лучшие гиперпараметры: {'max_iter': 500, 'learning_rate': 'optimal', 'class_weight': None}\n",
      "F1: 0.66\n",
      "Accuracy: 0.72\n",
      "ROC AUC: 0.75\n"
     ]
    },
    {
     "data": {
      "image/png": "[encoded data removed]",
      "text/plain": [
       "<Figure size 576x360 with 1 Axes>"
      ]
     },
     "metadata": {
      "needs_background": "light"
     },
     "output_type": "display_data"
    },
    {
     "data": {
      "image/png": "[encoded data removed]",
      "text/plain": [
       "<Figure size 720x504 with 2 Axes>"
      ]
     },
     "metadata": {
      "needs_background": "light"
     },
     "output_type": "display_data"
    }
   ],
   "source": [
    "sgd = SGDClassifier(random_state=12345, loss='log')\n",
    "sgd_params = {'class_weight':['balanced', None], 'max_iter':[500,1000], 'learning_rate':['optimal', 'adaptive']}\n",
    "sgd = model_estimator(sgd, sgd_params, features_train, target_train, features_valid, target_valid, 'Стохастического градиентного спуска')"
   ]
  },
  {
   "cell_type": "markdown",
   "id": "7e357fb6",
   "metadata": {
    "papermill": {
     "duration": 0.041471,
     "end_time": "2023-08-01T07:42:21.793837",
     "exception": false,
     "start_time": "2023-08-01T07:42:21.752366",
     "status": "completed"
    },
    "tags": []
   },
   "source": [
    "**LightGBM**"
   ]
  },
  {
   "cell_type": "code",
   "execution_count": 41,
   "id": "cc9a0417",
   "metadata": {
    "execution": {
     "iopub.execute_input": "2023-08-01T07:42:21.879430Z",
     "iopub.status.busy": "2023-08-01T07:42:21.878616Z",
     "iopub.status.idle": "2023-08-01T07:42:24.306630Z",
     "shell.execute_reply": "2023-08-01T07:42:24.305735Z"
    },
    "papermill": {
     "duration": 2.473675,
     "end_time": "2023-08-01T07:42:24.309081",
     "exception": false,
     "start_time": "2023-08-01T07:42:21.835406",
     "status": "completed"
    },
    "tags": []
   },
   "outputs": [
    {
     "name": "stdout",
     "output_type": "stream",
     "text": [
      "Лучшие гиперпараметры: {'n_estimators': 100, 'max_depth': 27, 'learning_rate': 0.05}\n",
      "F1: 0.77\n",
      "Accuracy: 0.83\n",
      "ROC AUC: 0.84\n"
     ]
    },
    {
     "data": {
      "image/png": "[encoded data removed]",
      "text/plain": [
       "<Figure size 576x360 with 1 Axes>"
      ]
     },
     "metadata": {
      "needs_background": "light"
     },
     "output_type": "display_data"
    },
    {
     "data": {
      "image/png": "[encoded data removed]",
      "text/plain": [
       "<Figure size 720x504 with 2 Axes>"
      ]
     },
     "metadata": {
      "needs_background": "light"
     },
     "output_type": "display_data"
    }
   ],
   "source": [
    "lgbm = LGBMClassifier(random_state=12345)\n",
    "lgbm_params = {'n_estimators': [10, 50, 100], 'max_depth': range(1, 30), 'learning_rate':[0.01, 0.05, 0.1]}\n",
    "lgbm = model_estimator(lgbm, lgbm_params, features_train, target_train, features_valid, target_valid, 'LightGBM')"
   ]
  },
  {
   "cell_type": "markdown",
   "id": "35b833d0",
   "metadata": {
    "papermill": {
     "duration": 0.041368,
     "end_time": "2023-08-01T07:42:24.393722",
     "exception": false,
     "start_time": "2023-08-01T07:42:24.352354",
     "status": "completed"
    },
    "tags": []
   },
   "source": [
    "**CatBoost**"
   ]
  },
  {
   "cell_type": "code",
   "execution_count": 42,
   "id": "b7c5d098",
   "metadata": {
    "execution": {
     "iopub.execute_input": "2023-08-01T07:42:24.480120Z",
     "iopub.status.busy": "2023-08-01T07:42:24.479301Z",
     "iopub.status.idle": "2023-08-01T07:43:20.823006Z",
     "shell.execute_reply": "2023-08-01T07:43:20.821711Z"
    },
    "papermill": {
     "duration": 56.390254,
     "end_time": "2023-08-01T07:43:20.825727",
     "exception": false,
     "start_time": "2023-08-01T07:42:24.435473",
     "status": "completed"
    },
    "tags": []
   },
   "outputs": [
    {
     "name": "stdout",
     "output_type": "stream",
     "text": [
      "Лучшие гиперпараметры: {'learning_rate': 0.05, 'iterations': 200, 'depth': 4}\n",
      "F1: 0.73\n",
      "Accuracy: 0.81\n",
      "ROC AUC: 0.86\n"
     ]
    },
    {
     "data": {
      "image/png": "[encoded data removed]",
      "text/plain": [
       "<Figure size 576x360 with 1 Axes>"
      ]
     },
     "metadata": {
      "needs_background": "light"
     },
     "output_type": "display_data"
    },
    {
     "data": {
      "image/png": "[encoded data removed]",
      "text/plain": [
       "<Figure size 720x504 with 2 Axes>"
      ]
     },
     "metadata": {
      "needs_background": "light"
     },
     "output_type": "display_data"
    }
   ],
   "source": [
    "cb = CatBoostClassifier(random_state=12345, verbose=0)\n",
    "cb_params = {'learning_rate':[0.01, 0.05, 0.1], 'iterations': [100, 200, 500], 'depth': [4, 6, 10]}\n",
    "cb = model_estimator(cb, cb_params, features_train, target_train, features_valid, target_valid, 'CatBoost')"
   ]
  },
  {
   "cell_type": "markdown",
   "id": "74c26952",
   "metadata": {
    "papermill": {
     "duration": 0.042917,
     "end_time": "2023-08-01T07:43:20.911674",
     "exception": false,
     "start_time": "2023-08-01T07:43:20.868757",
     "status": "completed"
    },
    "tags": []
   },
   "source": [
    "**XGBoost**"
   ]
  },
  {
   "cell_type": "code",
   "execution_count": 43,
   "id": "f45865c4",
   "metadata": {
    "execution": {
     "iopub.execute_input": "2023-08-01T07:43:21.000300Z",
     "iopub.status.busy": "2023-08-01T07:43:20.999448Z",
     "iopub.status.idle": "2023-08-01T07:43:25.846525Z",
     "shell.execute_reply": "2023-08-01T07:43:25.845621Z"
    },
    "papermill": {
     "duration": 4.894537,
     "end_time": "2023-08-01T07:43:25.849298",
     "exception": false,
     "start_time": "2023-08-01T07:43:20.954761",
     "status": "completed"
    },
    "tags": []
   },
   "outputs": [
    {
     "name": "stdout",
     "output_type": "stream",
     "text": [
      "Лучшие гиперпараметры: {'n_estimators': 50, 'max_depth': 18, 'learning_rate': 0.05}\n",
      "F1: 0.76\n",
      "Accuracy: 0.82\n",
      "ROC AUC: 0.83\n"
     ]
    },
    {
     "data": {
      "image/png": "[encoded data removed]",
      "text/plain": [
       "<Figure size 576x360 with 1 Axes>"
      ]
     },
     "metadata": {
      "needs_background": "light"
     },
     "output_type": "display_data"
    },
    {
     "data": {
      "image/png": "[encoded data removed]",
      "text/plain": [
       "<Figure size 720x504 with 2 Axes>"
      ]
     },
     "metadata": {
      "needs_background": "light"
     },
     "output_type": "display_data"
    }
   ],
   "source": [
    "xgb = XGBClassifier(random_state=12345)\n",
    "xgb_params = {'n_estimators': [10, 50, 100], 'max_depth': range(1, 30), 'learning_rate':[0.01, 0.05, 0.1]}\n",
    "xgb = model_estimator(xgb, xgb_params, features_train, target_train, features_valid, target_valid, 'XGBoost')"
   ]
  },
  {
   "cell_type": "markdown",
   "id": "1735d7e3",
   "metadata": {
    "papermill": {
     "duration": 0.043871,
     "end_time": "2023-08-01T07:43:25.937440",
     "exception": false,
     "start_time": "2023-08-01T07:43:25.893569",
     "status": "completed"
    },
    "tags": []
   },
   "source": [
    "**Глупая модель**"
   ]
  },
  {
   "cell_type": "code",
   "execution_count": 44,
   "id": "03cba809",
   "metadata": {
    "execution": {
     "iopub.execute_input": "2023-08-01T07:43:26.027699Z",
     "iopub.status.busy": "2023-08-01T07:43:26.026671Z",
     "iopub.status.idle": "2023-08-01T07:43:26.651813Z",
     "shell.execute_reply": "2023-08-01T07:43:26.650720Z"
    },
    "papermill": {
     "duration": 0.673339,
     "end_time": "2023-08-01T07:43:26.654460",
     "exception": false,
     "start_time": "2023-08-01T07:43:25.981121",
     "status": "completed"
    },
    "tags": []
   },
   "outputs": [
    {
     "name": "stderr",
     "output_type": "stream",
     "text": [
      "/opt/conda/lib/python3.7/site-packages/sklearn/model_selection/_search.py:296: UserWarning: The total space of parameters 4 is smaller than n_iter=10. Running 4 iterations. For exhaustive searches, use GridSearchCV.\n",
      "  UserWarning,\n"
     ]
    },
    {
     "name": "stdout",
     "output_type": "stream",
     "text": [
      "Лучшие гиперпараметры: {'strategy': 'most_frequent'}\n",
      "F1: 0.0\n",
      "Accuracy: 0.62\n",
      "ROC AUC: 0.5\n"
     ]
    },
    {
     "data": {
      "image/png": "[encoded data removed]",
      "text/plain": [
       "<Figure size 576x360 with 1 Axes>"
      ]
     },
     "metadata": {
      "needs_background": "light"
     },
     "output_type": "display_data"
    },
    {
     "data": {
      "image/png": "[encoded data removed]",
      "text/plain": [
       "<Figure size 720x504 with 2 Axes>"
      ]
     },
     "metadata": {
      "needs_background": "light"
     },
     "output_type": "display_data"
    }
   ],
   "source": [
    "dummy = DummyClassifier(random_state=12345)\n",
    "dummy_params = {'strategy': ['most_frequent', 'prior', 'stratified', 'uniform']}\n",
    "dummy = model_estimator(dummy, dummy_params, features_train, target_train, features_valid, target_valid, 'Глупой модели')"
   ]
  },
  {
   "cell_type": "markdown",
   "id": "4a1924e9",
   "metadata": {
    "papermill": {
     "duration": 0.04532,
     "end_time": "2023-08-01T07:43:26.746130",
     "exception": false,
     "start_time": "2023-08-01T07:43:26.700810",
     "status": "completed"
    },
    "tags": []
   },
   "source": [
    "Построим сводную таблицу с результатами всех моделей."
   ]
  },
  {
   "cell_type": "code",
   "execution_count": 45,
   "id": "ff3c39e6",
   "metadata": {
    "execution": {
     "iopub.execute_input": "2023-08-01T07:43:26.838712Z",
     "iopub.status.busy": "2023-08-01T07:43:26.838273Z",
     "iopub.status.idle": "2023-08-01T07:43:26.855154Z",
     "shell.execute_reply": "2023-08-01T07:43:26.854021Z"
    },
    "papermill": {
     "duration": 0.066966,
     "end_time": "2023-08-01T07:43:26.858296",
     "exception": false,
     "start_time": "2023-08-01T07:43:26.791330",
     "status": "completed"
    },
    "tags": []
   },
   "outputs": [
    {
     "data": {
      "text/html": [
       "<div>\n",
       "<style scoped>\n",
       "    .dataframe tbody tr th:only-of-type {\n",
       "        vertical-align: middle;\n",
       "    }\n",
       "\n",
       "    .dataframe tbody tr th {\n",
       "        vertical-align: top;\n",
       "    }\n",
       "\n",
       "    .dataframe thead th {\n",
       "        text-align: right;\n",
       "    }\n",
       "</style>\n",
       "<table border=\"1\" class=\"dataframe\">\n",
       "  <thead>\n",
       "    <tr style=\"text-align: right;\">\n",
       "      <th></th>\n",
       "      <th>F1</th>\n",
       "      <th>Accuracy</th>\n",
       "      <th>ROC AUC</th>\n",
       "    </tr>\n",
       "  </thead>\n",
       "  <tbody>\n",
       "    <tr>\n",
       "      <th>Дерево решений</th>\n",
       "      <td>0.75</td>\n",
       "      <td>0.83</td>\n",
       "      <td>0.84</td>\n",
       "    </tr>\n",
       "    <tr>\n",
       "      <th>Случайный лес</th>\n",
       "      <td>0.72</td>\n",
       "      <td>0.81</td>\n",
       "      <td>0.84</td>\n",
       "    </tr>\n",
       "    <tr>\n",
       "      <th>Логистическая регрессия</th>\n",
       "      <td>0.71</td>\n",
       "      <td>0.78</td>\n",
       "      <td>0.84</td>\n",
       "    </tr>\n",
       "    <tr>\n",
       "      <th>SGD</th>\n",
       "      <td>0.66</td>\n",
       "      <td>0.72</td>\n",
       "      <td>0.75</td>\n",
       "    </tr>\n",
       "    <tr>\n",
       "      <th>LightGBM</th>\n",
       "      <td>0.77</td>\n",
       "      <td>0.83</td>\n",
       "      <td>0.84</td>\n",
       "    </tr>\n",
       "    <tr>\n",
       "      <th>CatBoost</th>\n",
       "      <td>0.73</td>\n",
       "      <td>0.81</td>\n",
       "      <td>0.86</td>\n",
       "    </tr>\n",
       "    <tr>\n",
       "      <th>XGBoost</th>\n",
       "      <td>0.76</td>\n",
       "      <td>0.82</td>\n",
       "      <td>0.83</td>\n",
       "    </tr>\n",
       "    <tr>\n",
       "      <th>Глупая модель</th>\n",
       "      <td>0.00</td>\n",
       "      <td>0.62</td>\n",
       "      <td>0.50</td>\n",
       "    </tr>\n",
       "  </tbody>\n",
       "</table>\n",
       "</div>"
      ],
      "text/plain": [
       "                           F1  Accuracy  ROC AUC\n",
       "Дерево решений           0.75      0.83     0.84\n",
       "Случайный лес            0.72      0.81     0.84\n",
       "Логистическая регрессия  0.71      0.78     0.84\n",
       "SGD                      0.66      0.72     0.75\n",
       "LightGBM                 0.77      0.83     0.84\n",
       "CatBoost                 0.73      0.81     0.86\n",
       "XGBoost                  0.76      0.82     0.83\n",
       "Глупая модель            0.00      0.62     0.50"
      ]
     },
     "execution_count": 45,
     "metadata": {},
     "output_type": "execute_result"
    }
   ],
   "source": [
    "models_results = pd.DataFrame([dt, rf, lg, sgd, lgbm, cb, xgb, dummy], \n",
    "             columns=['F1', 'Accuracy', 'ROC AUC'], \n",
    "             index=['Дерево решений', 'Случайный лес', \\\n",
    "                    'Логистическая регрессия', 'SGD', \\\n",
    "                    'LightGBM', 'CatBoost', 'XGBoost', 'Глупая модель'])\n",
    "models_results"
   ]
  },
  {
   "cell_type": "markdown",
   "id": "f1a5d9db",
   "metadata": {
    "papermill": {
     "duration": 0.045061,
     "end_time": "2023-08-01T07:43:26.949657",
     "exception": false,
     "start_time": "2023-08-01T07:43:26.904596",
     "status": "completed"
    },
    "tags": []
   },
   "source": [
    "**Вывод**\n",
    "\n",
    "По точности и F1 выигрывает модель **LightGBM**. Ее и будем использовать для дальнейшего решения задачи."
   ]
  },
  {
   "cell_type": "markdown",
   "id": "2feb391e",
   "metadata": {
    "papermill": {
     "duration": 0.045079,
     "end_time": "2023-08-01T07:43:27.040052",
     "exception": false,
     "start_time": "2023-08-01T07:43:26.994973",
     "status": "completed"
    },
    "tags": []
   },
   "source": [
    "## Тестирование лучшей модели"
   ]
  },
  {
   "cell_type": "code",
   "execution_count": 46,
   "id": "7fed582c",
   "metadata": {
    "execution": {
     "iopub.execute_input": "2023-08-01T07:43:27.135882Z",
     "iopub.status.busy": "2023-08-01T07:43:27.135439Z",
     "iopub.status.idle": "2023-08-01T07:43:27.143039Z",
     "shell.execute_reply": "2023-08-01T07:43:27.142191Z"
    },
    "papermill": {
     "duration": 0.057507,
     "end_time": "2023-08-01T07:43:27.145245",
     "exception": false,
     "start_time": "2023-08-01T07:43:27.087738",
     "status": "completed"
    },
    "tags": []
   },
   "outputs": [],
   "source": [
    "# соединим обучающую и валидационную выборку \n",
    "# для обучения модели на полных данных \n",
    "\n",
    "features_train = pd.concat([features_train, features_valid], ignore_index=True)\n",
    "target_train = pd.concat([target_train, target_valid], ignore_index=True)"
   ]
  },
  {
   "cell_type": "code",
   "execution_count": 47,
   "id": "e31e0926",
   "metadata": {
    "execution": {
     "iopub.execute_input": "2023-08-01T07:43:27.239450Z",
     "iopub.status.busy": "2023-08-01T07:43:27.239036Z",
     "iopub.status.idle": "2023-08-01T07:43:27.660876Z",
     "shell.execute_reply": "2023-08-01T07:43:27.659615Z"
    },
    "papermill": {
     "duration": 0.472257,
     "end_time": "2023-08-01T07:43:27.663776",
     "exception": false,
     "start_time": "2023-08-01T07:43:27.191519",
     "status": "completed"
    },
    "tags": []
   },
   "outputs": [
    {
     "data": {
      "image/png": "[encoded data removed]",
      "text/plain": [
       "<Figure size 864x576 with 1 Axes>"
      ]
     },
     "metadata": {
      "needs_background": "light"
     },
     "output_type": "display_data"
    }
   ],
   "source": [
    "lgbm = LGBMClassifier(n_estimators=100, max_depth=10, learning_rate=0.1, random_state=12345)\n",
    "lgbm.fit(features_train, target_train)\n",
    "imp = pd.DataFrame(lgbm.feature_importances_/100, index=features_train.columns, columns=['importance'])\n",
    "imp.sort_values('importance').plot(kind='barh', figsize=(12, 8));"
   ]
  },
  {
   "cell_type": "code",
   "execution_count": 48,
   "id": "526962d7",
   "metadata": {
    "execution": {
     "iopub.execute_input": "2023-08-01T07:43:27.758456Z",
     "iopub.status.busy": "2023-08-01T07:43:27.757982Z",
     "iopub.status.idle": "2023-08-01T07:43:27.782734Z",
     "shell.execute_reply": "2023-08-01T07:43:27.781561Z"
    },
    "papermill": {
     "duration": 0.075422,
     "end_time": "2023-08-01T07:43:27.785832",
     "exception": false,
     "start_time": "2023-08-01T07:43:27.710410",
     "status": "completed"
    },
    "tags": []
   },
   "outputs": [],
   "source": [
    "# подготовим предсказанные значения для загрузки в турнирную таблицу\n",
    "\n",
    "submission = pd.DataFrame()\n",
    "submission['PassengerId'] = pd.read_csv('../input/titanic/test.csv')['PassengerId']\n",
    "submission['Survived'] = lgbm.predict(test)\n",
    "submission.to_csv('./submission.csv', index=False)"
   ]
  },
  {
   "attachments": {
    "c697ce54-6fb6-4740-ab49-7911e3673934.png": {
     "image/png": "[encoded data removed]"
    }
   },
   "cell_type": "markdown",
   "id": "893ddefe",
   "metadata": {
    "papermill": {
     "duration": 0.045577,
     "end_time": "2023-08-01T07:43:27.878071",
     "exception": false,
     "start_time": "2023-08-01T07:43:27.832494",
     "status": "completed"
    },
    "tags": []
   },
   "source": [
    "Результат загрузки: точность 0.77.\n",
    "![image.png](attachment:c697ce54-6fb6-4740-ab49-7911e3673934.png)"
   ]
  },
  {
   "cell_type": "markdown",
   "id": "41ca2e65",
   "metadata": {
    "papermill": {
     "duration": 0.045574,
     "end_time": "2023-08-01T07:43:27.969575",
     "exception": false,
     "start_time": "2023-08-01T07:43:27.924001",
     "status": "completed"
    },
    "tags": []
   },
   "source": [
    "**Вывод**\n",
    "\n",
    "Точность лучшей модели на тестовой выборке 0.77. Наиболее важными признаками для предсказания выживания пассажиров оказались пассажирский тариф, возраст, число братьев/сестер/супругов на борту, пол."
   ]
  },
  {
   "cell_type": "markdown",
   "id": "11c8e349",
   "metadata": {
    "papermill": {
     "duration": 0.045513,
     "end_time": "2023-08-01T07:43:28.061155",
     "exception": false,
     "start_time": "2023-08-01T07:43:28.015642",
     "status": "completed"
    },
    "tags": []
   },
   "source": [
    "## Общий вывод\n",
    "\n",
    "Данные уже разделены были на обучающую и тестовую выборки. Обе выборки содержали пропуски в колонках `Cabin` (около 80%) и `Age` (около 20%). Менее 1% пропусков в колонке `Embarked` обучающей выборки. И менее 1% пропусков в колонке `Fare` тестовой выборки. В обучающей выборке был небольшой дисбаланс классов: почти 40% выживших. Анализ данных показал, что у женщин и у людей из 1 класса несколько больше шансов выжить. Матрица корреляции признаков это подтвердила. Пропуски возраста в обучающей и тестовой выборках заполнили медианными значениями обучающей выборки с группировкой по полу. Пропуск в колонке `Fare` тестовой выборки заполнили медианой обучающей выборки с группировкой по классу билета. От пропусков в колонке `Cabin` избавились, просто удалив колонку: там пропосков слишком много. Также удалили столбцы `PassengerId`, `Name` и `Ticket` как бесполезные. Сделали перекодировку категориальных переменных для подготовки данных к обучению. Обучили и сравнили модели Дерева решений, Случайного леса, Логистической регрессии,  Стохастического градиентного спуска, LightGBM, CatBoost, XGBoost, Глупую модель. Лучшей оказалась модель **LightGBM** (F1 = 0.77, Accuracy = 0.83). Точность на тестовой выборке 0.77. Наиболее важными признаками для предсказания выживания пассажиров оказались пассажирский тариф, возраст, число братьев/сестер/супругов на борту, пол."
   ]
  }
 ],
 "metadata": {
  "kernelspec": {
   "display_name": "Python 3",
   "language": "python",
   "name": "python3"
  },
  "language_info": {
   "codemirror_mode": {
    "name": "ipython",
    "version": 3
   },
   "file_extension": ".py",
   "mimetype": "text/x-python",
   "name": "python",
   "nbconvert_exporter": "python",
   "pygments_lexer": "ipython3",
   "version": "3.7.12"
  },
  "papermill": {
   "default_parameters": {},
   "duration": 108.497436,
   "end_time": "2023-08-01T07:43:30.730849",
   "environment_variables": {},
   "exception": null,
   "input_path": "__notebook__.ipynb",
   "output_path": "__notebook__.ipynb",
   "parameters": {},
   "start_time": "2023-08-01T07:41:42.233413",
   "version": "2.3.4"
  }
 },
 "nbformat": 4,
 "nbformat_minor": 5
}
